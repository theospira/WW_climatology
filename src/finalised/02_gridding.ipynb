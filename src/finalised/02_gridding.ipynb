{
 "cells": [
  {
   "cell_type": "markdown",
   "id": "a9b4460a-d969-41c7-a4fd-5963d8a0d8b0",
   "metadata": {
    "tags": []
   },
   "source": [
    "# import funcs and load hydrographics profiles ds"
   ]
  },
  {
   "cell_type": "code",
   "execution_count": 1,
   "id": "944f7e11-7221-4096-b39e-6899d23b2876",
   "metadata": {},
   "outputs": [],
   "source": [
    "import numpy as np\n",
    "import pandas as pd\n",
    "from scipy import interpolate\n",
    "\n",
    "import xarray as xr\n",
    "import dask.array as da\n",
    "from dask.distributed import Client\n",
    "\n",
    "import matplotlib as mpl\n",
    "import matplotlib.pyplot as plt\n",
    "import matplotlib.colors as mcolors\n",
    "import matplotlib.patches as mpatches # for creating legend\n",
    "import matplotlib.dates as mdates # converts datetime64 to datetime\n",
    "\n",
    "import cartopy\n",
    "import cartopy.crs as ccrs # for plotting\n",
    "import cartopy.feature as cfeature # for map features\n",
    "from cartopy.util import add_cyclic_point # for wrapping map fully - avoiding white line on 0 deg\n",
    "from cartopy.mpl.ticker import LongitudeFormatter, LatitudeFormatter\n",
    "\n",
    "import matplotlib.dates as mdates # converts datetime64 to datetime\n",
    "import matplotlib.gridspec as gridspec # to create grid-shaped combos of axes\n",
    "from mpl_toolkits import mplot3d # 3d plotting tool\n",
    "import cmocean # for nice oceanography colour pallettes\n",
    "\n",
    "#import argopy\n",
    "#from argopy import DataFetcher as ArgoDataFetcher # to load Argo ds directly\n",
    "\n",
    "import os # for finding files\n",
    "\n",
    "import gsw # for conversion functions\n",
    "\n",
    "from tqdm.notebook import tqdm_notebook as tqdm\n",
    "import glob # for downloading data\n",
    "import sys # for path to functions\n",
    "\n",
    "import seaborn as sns\n",
    "\n",
    "sns.set(#font='Franklin Gothic Book',\n",
    "        rc={\n",
    "         'axes.axisbelow': False,\n",
    "         'axes.edgecolor': 'Black',\n",
    "         'axes.facecolor': 'w', \n",
    "                            # '#aeaeae',\n",
    "         'axes.grid': False,\n",
    "         'axes.labelcolor': 'k',\n",
    "         'axes.spines.right': True,\n",
    "         'axes.spines.top': True,\n",
    "         'figure.facecolor': 'white',\n",
    "         'lines.solid_capstyle': 'round',\n",
    "         'patch.edgecolor': 'k',\n",
    "         'patch.force_edgecolor': True,\n",
    "         'text.color': 'k',\n",
    "         'xtick.bottom': True,\n",
    "         'xtick.color': 'k',\n",
    "         'xtick.direction': 'out',\n",
    "         'xtick.top': False,\n",
    "         'ytick.color': 'k',\n",
    "         'ytick.direction': 'out',\n",
    "         'ytick.left': True,\n",
    "         'ytick.right': False},\n",
    "         font_scale=1)\n",
    "mpl.rcParams[\"figure.titlesize\"] = 40\n",
    "mpl.rcParams[\"axes.titlesize\"] = 40\n",
    "mpl.rcParams[\"axes.labelsize\"] = 30\n",
    "mpl.rcParams[\"font.size\"] = 20\n",
    "mpl.rcParams[\"xtick.labelsize\"] = 20\n",
    "mpl.rcParams[\"ytick.labelsize\"] = 20\n",
    "mpl.rcParams[\"ytick.labelright\"] = False\n",
    "\n",
    "from warnings import filterwarnings as fw\n",
    "fw('ignore')\n",
    "\n",
    "# import my own funcs\n",
    "import sys\n",
    "sys.path.append('/home/theospira/notebooks/projects/WW_climatology/functions')\n",
    "from plot_formatting import circular_boundary,plot_nice_box\n",
    "from inspection_funcs import boxplot\n",
    "\n",
    "import importlib\n",
    "#importlib.reload(sys.modules['inspection_plot'])\n",
    "\n",
    "path = '/home/theospira/notebooks/projects/WW_climatology'"
   ]
  },
  {
   "cell_type": "markdown",
   "id": "5c5a69bf-7ba0-45d0-aaa3-9be1831761c7",
   "metadata": {
    "tags": []
   },
   "source": [
    "# seasonal gridding"
   ]
  },
  {
   "cell_type": "code",
   "execution_count": 2,
   "id": "aa301f49-0d23-4976-89f6-f97bc3eefdd4",
   "metadata": {},
   "outputs": [],
   "source": [
    "def median_gridding_szn(dsvar):\n",
    "    \n",
    "    if 'pres' in dsvar.dims:\n",
    "        arr = np.ndarray([4,360,40,ds.pres.size])*np.nan\n",
    "    else:\n",
    "        arr = np.ndarray([4,360,40])*np.nan\n",
    "    \n",
    "    # define lon min and max resp\n",
    "    gs = 1\n",
    "    lon_min = -180\n",
    "    lon_max = 180\n",
    "    lon = np.arange(lon_min,lon_max+gs,gs)\n",
    "    lon_labels = range(0,lon_max-lon_min,gs)\n",
    "    \n",
    "    lat_min = -80\n",
    "    lat_max = -40\n",
    "    lat = np.arange(lat_min,lat_max+gs,gs)\n",
    "    lat_labels = range(0,lat_max-lat_min,gs)\n",
    "    \n",
    "    # group by seasons\n",
    "    var = dsvar.groupby_bins(group='time.month',bins=range(0,15,3),labels=range(0,4))\n",
    "    \n",
    "    # group into lon bins\n",
    "    for t,gr_t in tqdm(var):\n",
    "        var1 = gr_t.groupby_bins('lon',lon,labels=lon_labels,restore_coord_dims=True)\n",
    "        \n",
    "        # now group into lat bins for each lon group:\n",
    "        for ln,gr_ln in var1:\n",
    "            var2 = gr_ln.groupby_bins('lat',lat,labels=lat_labels,restore_coord_dims=True)\n",
    "            \n",
    "            # now take the mode!\n",
    "            for lt,gr_lt in var2:\n",
    "                arr[t,ln,lt] = gr_lt.median('n_prof',skipna=True)\n",
    "            \n",
    "    return arr"
   ]
  },
  {
   "cell_type": "code",
   "execution_count": 3,
   "id": "f5726526-84c2-4ff8-b8b3-e2bc3a467556",
   "metadata": {},
   "outputs": [],
   "source": [
    "from scipy.stats import mode\n",
    "\n",
    "def mode_gridding_szn(dsvar):\n",
    "    \n",
    "    if 'pres' in dsvar.dims:\n",
    "        arr = np.ndarray([4,360,40,ds.pres.size])*np.nan\n",
    "    else:\n",
    "        arr = np.ndarray([4,360,40])*np.nan\n",
    "    \n",
    "    # define lon min and max resp\n",
    "    gs = 1\n",
    "    lon_min = -180\n",
    "    lon_max = 180\n",
    "    lon = np.arange(lon_min,lon_max+gs,gs)\n",
    "    lon_labels = range(0,lon_max-lon_min,gs)\n",
    "    \n",
    "    lat_min = -80\n",
    "    lat_max = -40\n",
    "    lat = np.arange(lat_min,lat_max+gs,gs)\n",
    "    lat_labels = range(0,lat_max-lat_min,gs)\n",
    "    \n",
    "    # group by seasons\n",
    "    var = dsvar.groupby_bins(group='time.month',bins=range(0,15,3),labels=range(0,4))\n",
    "    \n",
    "    # group into lon bins\n",
    "    for t,gr_t in tqdm(var):\n",
    "        var1 = gr_t.groupby_bins('lon',lon,labels=lon_labels,restore_coord_dims=True)\n",
    "        \n",
    "        # now group into lat bins for each lon group:\n",
    "        for ln,gr_ln in var1:\n",
    "            var2 = gr_ln.groupby_bins('lat',lat,labels=lat_labels,restore_coord_dims=True)\n",
    "            \n",
    "            # now take the mode!\n",
    "            for lt,gr_lt in var2:\n",
    "                arr[t,ln,lt] = mode(gr_lt,nan_policy='omit')[0]\n",
    "            \n",
    "    return arr"
   ]
  },
  {
   "cell_type": "code",
   "execution_count": 4,
   "id": "4cfde4df-cb85-4606-9bcf-c54acd07c85a",
   "metadata": {},
   "outputs": [],
   "source": [
    "from scipy.stats import mode\n",
    "\n",
    "def count_gridding_szn(dsvar):\n",
    "    \n",
    "    arr = np.ndarray([4,360,40])*np.nan\n",
    "    \n",
    "    # define lon min and max resp\n",
    "    gs = 1\n",
    "    lon_min = -180\n",
    "    lon_max = 180\n",
    "    lon = np.arange(lon_min,lon_max+gs,gs)\n",
    "    lon_labels = range(0,lon_max-lon_min,gs)\n",
    "    \n",
    "    lat_min = -80\n",
    "    lat_max = -40\n",
    "    lat = np.arange(lat_min,lat_max+gs,gs)\n",
    "    lat_labels = range(0,lat_max-lat_min,gs)\n",
    "    \n",
    "    # group by seasons\n",
    "    var = dsvar.groupby_bins(group='time.month',bins=range(0,15,3),labels=range(0,4))\n",
    "    \n",
    "    # group into lon bins\n",
    "    for t,gr_t in tqdm(var):\n",
    "        var1 = gr_t.groupby_bins('lon',lon,labels=lon_labels,restore_coord_dims=True)\n",
    "        \n",
    "        # now group into lat bins for each lon group:\n",
    "        for ln,gr_ln in var1:\n",
    "            var2 = gr_ln.groupby_bins('lat',lat,labels=lat_labels,restore_coord_dims=True)\n",
    "            \n",
    "            # now take the mode!\n",
    "            for lt,gr_lt in var2:\n",
    "                arr[t,ln,lt] = gr_lt.count()\n",
    "            \n",
    "    return arr"
   ]
  },
  {
   "cell_type": "code",
   "execution_count": 5,
   "id": "be832abe-e7cf-46ce-a82c-f63095582f7f",
   "metadata": {},
   "outputs": [],
   "source": [
    "def mean_gridding(dsvar):\n",
    "    \"\"\"\n",
    "    annual median on 1°x1° grid\n",
    "    \"\"\"\n",
    "    if 'pres' in dsvar.dims:\n",
    "        arr = np.ndarray([4,360,40,ds.pres.size])*np.nan\n",
    "    else:\n",
    "        arr = np.ndarray([4,360,40])*np.nan\n",
    "    \n",
    "    # define lon min and max resp\n",
    "    gs = 1\n",
    "    lon_min = -180\n",
    "    lon_max = 180\n",
    "    lon = np.arange(lon_min,lon_max+gs,gs)\n",
    "    lon_labels = range(0,lon_max-lon_min,gs)\n",
    "    \n",
    "    lat_min = -80\n",
    "    lat_max = -40\n",
    "    lat = np.arange(lat_min,lat_max+gs,gs)\n",
    "    lat_labels = range(0,lat_max-lat_min,gs)\n",
    "    \n",
    "    # group into lon bins\n",
    "    var1 = dsvar.groupby_bins('lon',lon,labels=lon_labels,restore_coord_dims=True)\n",
    "    \n",
    "    # now group into lat bins for each lon group:\n",
    "    for ln,gr_ln in var1:\n",
    "        var2 = gr_ln.groupby_bins('lat',lat,labels=lat_labels,restore_coord_dims=True)\n",
    "        \n",
    "        # now take the mode!\n",
    "        for lt,gr_lt in var2:\n",
    "            arr[t,ln,lt] = gr_lt.median('n_prof',skipna=True)\n",
    "        \n",
    "    return arr"
   ]
  },
  {
   "cell_type": "code",
   "execution_count": 6,
   "id": "d3197dba-1076-40b9-99b9-aff5054337d5",
   "metadata": {},
   "outputs": [],
   "source": [
    "def std_gridding(dsvar):\n",
    "    \"\"\"\n",
    "    annual standard deviation on 1°x1° grid\n",
    "    \"\"\"\n",
    "    \n",
    "    if 'pres' in dsvar.dims:\n",
    "        arr = np.ndarray([4,360,40,ds.pres.size])*np.nan\n",
    "    else:\n",
    "        arr = np.ndarray([4,360,40])*np.nan\n",
    "    \n",
    "    # define lon min and max resp\n",
    "    gs = 1\n",
    "    lon_min = -180\n",
    "    lon_max = 180\n",
    "    lon = np.arange(lon_min,lon_max+gs,gs)\n",
    "    lon_labels = range(0,lon_max-lon_min,gs)\n",
    "    \n",
    "    lat_min = -80\n",
    "    lat_max = -40\n",
    "    lat = np.arange(lat_min,lat_max+gs,gs)\n",
    "    lat_labels = range(0,lat_max-lat_min,gs)\n",
    "    \n",
    "    # group into lon bins\n",
    "    var1 = dsvar.groupby_bins('lon',lon,labels=lon_labels,restore_coord_dims=True)\n",
    "    \n",
    "    # now group into lat bins for each lon group:\n",
    "    for ln,gr_ln in var1:\n",
    "        var2 = gr_ln.groupby_bins('lat',lat,labels=lat_labels,restore_coord_dims=True)\n",
    "        \n",
    "        # now take the mode!\n",
    "        for lt,gr_lt in var2:\n",
    "            arr[t,ln,lt] = gr_lt.std('n_prof',skipna=True)\n",
    "        \n",
    "    return arr"
   ]
  },
  {
   "cell_type": "markdown",
   "id": "8f8be38f-217d-40ec-8c42-826e4f30d902",
   "metadata": {
    "jp-MarkdownHeadingCollapsed": true
   },
   "source": [
    "# load ds and grid"
   ]
  },
  {
   "cell_type": "code",
   "execution_count": 10,
   "id": "a9edd50a-c6b7-4a3f-b368-fd3944bbed81",
   "metadata": {},
   "outputs": [],
   "source": [
    "ds = xr.open_dataset(path+'/data/hydrographic_profiles/superseded/ww_gauss_smoothed_ds-preDec23.nc')"
   ]
  },
  {
   "cell_type": "code",
   "execution_count": 12,
   "id": "6994cc96-48e8-48f2-8cd7-a4888525ea6f",
   "metadata": {},
   "outputs": [
    {
     "data": {
      "text/html": [
       "<div><svg style=\"position: absolute; width: 0; height: 0; overflow: hidden\">\n",
       "<defs>\n",
       "<symbol id=\"icon-database\" viewBox=\"0 0 32 32\">\n",
       "<path d=\"M16 0c-8.837 0-16 2.239-16 5v4c0 2.761 7.163 5 16 5s16-2.239 16-5v-4c0-2.761-7.163-5-16-5z\"></path>\n",
       "<path d=\"M16 17c-8.837 0-16-2.239-16-5v6c0 2.761 7.163 5 16 5s16-2.239 16-5v-6c0 2.761-7.163 5-16 5z\"></path>\n",
       "<path d=\"M16 26c-8.837 0-16-2.239-16-5v6c0 2.761 7.163 5 16 5s16-2.239 16-5v-6c0 2.761-7.163 5-16 5z\"></path>\n",
       "</symbol>\n",
       "<symbol id=\"icon-file-text2\" viewBox=\"0 0 32 32\">\n",
       "<path d=\"M28.681 7.159c-0.694-0.947-1.662-2.053-2.724-3.116s-2.169-2.030-3.116-2.724c-1.612-1.182-2.393-1.319-2.841-1.319h-15.5c-1.378 0-2.5 1.121-2.5 2.5v27c0 1.378 1.122 2.5 2.5 2.5h23c1.378 0 2.5-1.122 2.5-2.5v-19.5c0-0.448-0.137-1.23-1.319-2.841zM24.543 5.457c0.959 0.959 1.712 1.825 2.268 2.543h-4.811v-4.811c0.718 0.556 1.584 1.309 2.543 2.268zM28 29.5c0 0.271-0.229 0.5-0.5 0.5h-23c-0.271 0-0.5-0.229-0.5-0.5v-27c0-0.271 0.229-0.5 0.5-0.5 0 0 15.499-0 15.5 0v7c0 0.552 0.448 1 1 1h7v19.5z\"></path>\n",
       "<path d=\"M23 26h-14c-0.552 0-1-0.448-1-1s0.448-1 1-1h14c0.552 0 1 0.448 1 1s-0.448 1-1 1z\"></path>\n",
       "<path d=\"M23 22h-14c-0.552 0-1-0.448-1-1s0.448-1 1-1h14c0.552 0 1 0.448 1 1s-0.448 1-1 1z\"></path>\n",
       "<path d=\"M23 18h-14c-0.552 0-1-0.448-1-1s0.448-1 1-1h14c0.552 0 1 0.448 1 1s-0.448 1-1 1z\"></path>\n",
       "</symbol>\n",
       "</defs>\n",
       "</svg>\n",
       "<style>/* CSS stylesheet for displaying xarray objects in jupyterlab.\n",
       " *\n",
       " */\n",
       "\n",
       ":root {\n",
       "  --xr-font-color0: var(--jp-content-font-color0, rgba(0, 0, 0, 1));\n",
       "  --xr-font-color2: var(--jp-content-font-color2, rgba(0, 0, 0, 0.54));\n",
       "  --xr-font-color3: var(--jp-content-font-color3, rgba(0, 0, 0, 0.38));\n",
       "  --xr-border-color: var(--jp-border-color2, #e0e0e0);\n",
       "  --xr-disabled-color: var(--jp-layout-color3, #bdbdbd);\n",
       "  --xr-background-color: var(--jp-layout-color0, white);\n",
       "  --xr-background-color-row-even: var(--jp-layout-color1, white);\n",
       "  --xr-background-color-row-odd: var(--jp-layout-color2, #eeeeee);\n",
       "}\n",
       "\n",
       "html[theme=dark],\n",
       "body[data-theme=dark],\n",
       "body.vscode-dark {\n",
       "  --xr-font-color0: rgba(255, 255, 255, 1);\n",
       "  --xr-font-color2: rgba(255, 255, 255, 0.54);\n",
       "  --xr-font-color3: rgba(255, 255, 255, 0.38);\n",
       "  --xr-border-color: #1F1F1F;\n",
       "  --xr-disabled-color: #515151;\n",
       "  --xr-background-color: #111111;\n",
       "  --xr-background-color-row-even: #111111;\n",
       "  --xr-background-color-row-odd: #313131;\n",
       "}\n",
       "\n",
       ".xr-wrap {\n",
       "  display: block !important;\n",
       "  min-width: 300px;\n",
       "  max-width: 700px;\n",
       "}\n",
       "\n",
       ".xr-text-repr-fallback {\n",
       "  /* fallback to plain text repr when CSS is not injected (untrusted notebook) */\n",
       "  display: none;\n",
       "}\n",
       "\n",
       ".xr-header {\n",
       "  padding-top: 6px;\n",
       "  padding-bottom: 6px;\n",
       "  margin-bottom: 4px;\n",
       "  border-bottom: solid 1px var(--xr-border-color);\n",
       "}\n",
       "\n",
       ".xr-header > div,\n",
       ".xr-header > ul {\n",
       "  display: inline;\n",
       "  margin-top: 0;\n",
       "  margin-bottom: 0;\n",
       "}\n",
       "\n",
       ".xr-obj-type,\n",
       ".xr-array-name {\n",
       "  margin-left: 2px;\n",
       "  margin-right: 10px;\n",
       "}\n",
       "\n",
       ".xr-obj-type {\n",
       "  color: var(--xr-font-color2);\n",
       "}\n",
       "\n",
       ".xr-sections {\n",
       "  padding-left: 0 !important;\n",
       "  display: grid;\n",
       "  grid-template-columns: 150px auto auto 1fr 20px 20px;\n",
       "}\n",
       "\n",
       ".xr-section-item {\n",
       "  display: contents;\n",
       "}\n",
       "\n",
       ".xr-section-item input {\n",
       "  display: none;\n",
       "}\n",
       "\n",
       ".xr-section-item input + label {\n",
       "  color: var(--xr-disabled-color);\n",
       "}\n",
       "\n",
       ".xr-section-item input:enabled + label {\n",
       "  cursor: pointer;\n",
       "  color: var(--xr-font-color2);\n",
       "}\n",
       "\n",
       ".xr-section-item input:enabled + label:hover {\n",
       "  color: var(--xr-font-color0);\n",
       "}\n",
       "\n",
       ".xr-section-summary {\n",
       "  grid-column: 1;\n",
       "  color: var(--xr-font-color2);\n",
       "  font-weight: 500;\n",
       "}\n",
       "\n",
       ".xr-section-summary > span {\n",
       "  display: inline-block;\n",
       "  padding-left: 0.5em;\n",
       "}\n",
       "\n",
       ".xr-section-summary-in:disabled + label {\n",
       "  color: var(--xr-font-color2);\n",
       "}\n",
       "\n",
       ".xr-section-summary-in + label:before {\n",
       "  display: inline-block;\n",
       "  content: '►';\n",
       "  font-size: 11px;\n",
       "  width: 15px;\n",
       "  text-align: center;\n",
       "}\n",
       "\n",
       ".xr-section-summary-in:disabled + label:before {\n",
       "  color: var(--xr-disabled-color);\n",
       "}\n",
       "\n",
       ".xr-section-summary-in:checked + label:before {\n",
       "  content: '▼';\n",
       "}\n",
       "\n",
       ".xr-section-summary-in:checked + label > span {\n",
       "  display: none;\n",
       "}\n",
       "\n",
       ".xr-section-summary,\n",
       ".xr-section-inline-details {\n",
       "  padding-top: 4px;\n",
       "  padding-bottom: 4px;\n",
       "}\n",
       "\n",
       ".xr-section-inline-details {\n",
       "  grid-column: 2 / -1;\n",
       "}\n",
       "\n",
       ".xr-section-details {\n",
       "  display: none;\n",
       "  grid-column: 1 / -1;\n",
       "  margin-bottom: 5px;\n",
       "}\n",
       "\n",
       ".xr-section-summary-in:checked ~ .xr-section-details {\n",
       "  display: contents;\n",
       "}\n",
       "\n",
       ".xr-array-wrap {\n",
       "  grid-column: 1 / -1;\n",
       "  display: grid;\n",
       "  grid-template-columns: 20px auto;\n",
       "}\n",
       "\n",
       ".xr-array-wrap > label {\n",
       "  grid-column: 1;\n",
       "  vertical-align: top;\n",
       "}\n",
       "\n",
       ".xr-preview {\n",
       "  color: var(--xr-font-color3);\n",
       "}\n",
       "\n",
       ".xr-array-preview,\n",
       ".xr-array-data {\n",
       "  padding: 0 5px !important;\n",
       "  grid-column: 2;\n",
       "}\n",
       "\n",
       ".xr-array-data,\n",
       ".xr-array-in:checked ~ .xr-array-preview {\n",
       "  display: none;\n",
       "}\n",
       "\n",
       ".xr-array-in:checked ~ .xr-array-data,\n",
       ".xr-array-preview {\n",
       "  display: inline-block;\n",
       "}\n",
       "\n",
       ".xr-dim-list {\n",
       "  display: inline-block !important;\n",
       "  list-style: none;\n",
       "  padding: 0 !important;\n",
       "  margin: 0;\n",
       "}\n",
       "\n",
       ".xr-dim-list li {\n",
       "  display: inline-block;\n",
       "  padding: 0;\n",
       "  margin: 0;\n",
       "}\n",
       "\n",
       ".xr-dim-list:before {\n",
       "  content: '(';\n",
       "}\n",
       "\n",
       ".xr-dim-list:after {\n",
       "  content: ')';\n",
       "}\n",
       "\n",
       ".xr-dim-list li:not(:last-child):after {\n",
       "  content: ',';\n",
       "  padding-right: 5px;\n",
       "}\n",
       "\n",
       ".xr-has-index {\n",
       "  font-weight: bold;\n",
       "}\n",
       "\n",
       ".xr-var-list,\n",
       ".xr-var-item {\n",
       "  display: contents;\n",
       "}\n",
       "\n",
       ".xr-var-item > div,\n",
       ".xr-var-item label,\n",
       ".xr-var-item > .xr-var-name span {\n",
       "  background-color: var(--xr-background-color-row-even);\n",
       "  margin-bottom: 0;\n",
       "}\n",
       "\n",
       ".xr-var-item > .xr-var-name:hover span {\n",
       "  padding-right: 5px;\n",
       "}\n",
       "\n",
       ".xr-var-list > li:nth-child(odd) > div,\n",
       ".xr-var-list > li:nth-child(odd) > label,\n",
       ".xr-var-list > li:nth-child(odd) > .xr-var-name span {\n",
       "  background-color: var(--xr-background-color-row-odd);\n",
       "}\n",
       "\n",
       ".xr-var-name {\n",
       "  grid-column: 1;\n",
       "}\n",
       "\n",
       ".xr-var-dims {\n",
       "  grid-column: 2;\n",
       "}\n",
       "\n",
       ".xr-var-dtype {\n",
       "  grid-column: 3;\n",
       "  text-align: right;\n",
       "  color: var(--xr-font-color2);\n",
       "}\n",
       "\n",
       ".xr-var-preview {\n",
       "  grid-column: 4;\n",
       "}\n",
       "\n",
       ".xr-index-preview {\n",
       "  grid-column: 2 / 5;\n",
       "  color: var(--xr-font-color2);\n",
       "}\n",
       "\n",
       ".xr-var-name,\n",
       ".xr-var-dims,\n",
       ".xr-var-dtype,\n",
       ".xr-preview,\n",
       ".xr-attrs dt {\n",
       "  white-space: nowrap;\n",
       "  overflow: hidden;\n",
       "  text-overflow: ellipsis;\n",
       "  padding-right: 10px;\n",
       "}\n",
       "\n",
       ".xr-var-name:hover,\n",
       ".xr-var-dims:hover,\n",
       ".xr-var-dtype:hover,\n",
       ".xr-attrs dt:hover {\n",
       "  overflow: visible;\n",
       "  width: auto;\n",
       "  z-index: 1;\n",
       "}\n",
       "\n",
       ".xr-var-attrs,\n",
       ".xr-var-data,\n",
       ".xr-index-data {\n",
       "  display: none;\n",
       "  background-color: var(--xr-background-color) !important;\n",
       "  padding-bottom: 5px !important;\n",
       "}\n",
       "\n",
       ".xr-var-attrs-in:checked ~ .xr-var-attrs,\n",
       ".xr-var-data-in:checked ~ .xr-var-data,\n",
       ".xr-index-data-in:checked ~ .xr-index-data {\n",
       "  display: block;\n",
       "}\n",
       "\n",
       ".xr-var-data > table {\n",
       "  float: right;\n",
       "}\n",
       "\n",
       ".xr-var-name span,\n",
       ".xr-var-data,\n",
       ".xr-index-name div,\n",
       ".xr-index-data,\n",
       ".xr-attrs {\n",
       "  padding-left: 25px !important;\n",
       "}\n",
       "\n",
       ".xr-attrs,\n",
       ".xr-var-attrs,\n",
       ".xr-var-data,\n",
       ".xr-index-data {\n",
       "  grid-column: 1 / -1;\n",
       "}\n",
       "\n",
       "dl.xr-attrs {\n",
       "  padding: 0;\n",
       "  margin: 0;\n",
       "  display: grid;\n",
       "  grid-template-columns: 125px auto;\n",
       "}\n",
       "\n",
       ".xr-attrs dt,\n",
       ".xr-attrs dd {\n",
       "  padding: 0;\n",
       "  margin: 0;\n",
       "  float: left;\n",
       "  padding-right: 10px;\n",
       "  width: auto;\n",
       "}\n",
       "\n",
       ".xr-attrs dt {\n",
       "  font-weight: normal;\n",
       "  grid-column: 1;\n",
       "}\n",
       "\n",
       ".xr-attrs dt:hover span {\n",
       "  display: inline-block;\n",
       "  background: var(--xr-background-color);\n",
       "  padding-right: 10px;\n",
       "}\n",
       "\n",
       ".xr-attrs dd {\n",
       "  grid-column: 2;\n",
       "  white-space: pre-wrap;\n",
       "  word-break: break-all;\n",
       "}\n",
       "\n",
       ".xr-icon-database,\n",
       ".xr-icon-file-text2,\n",
       ".xr-no-icon {\n",
       "  display: inline-block;\n",
       "  vertical-align: middle;\n",
       "  width: 1em;\n",
       "  height: 1.5em !important;\n",
       "  stroke-width: 0;\n",
       "  stroke: currentColor;\n",
       "  fill: currentColor;\n",
       "}\n",
       "</style><pre class='xr-text-repr-fallback'>&lt;xarray.DataArray &#x27;ww_ct&#x27; ()&gt;\n",
       "array(266856)</pre><div class='xr-wrap' style='display:none'><div class='xr-header'><div class='xr-obj-type'>xarray.DataArray</div><div class='xr-array-name'>'ww_ct'</div></div><ul class='xr-sections'><li class='xr-section-item'><div class='xr-array-wrap'><input id='section-46cf0226-df11-4001-b52e-6d7166aee4a9' class='xr-array-in' type='checkbox' checked><label for='section-46cf0226-df11-4001-b52e-6d7166aee4a9' title='Show/hide data repr'><svg class='icon xr-icon-database'><use xlink:href='#icon-database'></use></svg></label><div class='xr-array-preview xr-preview'><span>266856</span></div><div class='xr-array-data'><pre>array(266856)</pre></div></div></li><li class='xr-section-item'><input id='section-fa35907b-d9ab-4f1d-a6d9-ff11a52e17db' class='xr-section-summary-in' type='checkbox' disabled ><label for='section-fa35907b-d9ab-4f1d-a6d9-ff11a52e17db' class='xr-section-summary'  title='Expand/collapse section'>Coordinates: <span>(0)</span></label><div class='xr-section-inline-details'></div><div class='xr-section-details'><ul class='xr-var-list'></ul></div></li><li class='xr-section-item'><input id='section-89d7d3bd-d69f-4315-92b7-84054ded0bf0' class='xr-section-summary-in' type='checkbox' disabled ><label for='section-89d7d3bd-d69f-4315-92b7-84054ded0bf0' class='xr-section-summary'  title='Expand/collapse section'>Indexes: <span>(0)</span></label><div class='xr-section-inline-details'></div><div class='xr-section-details'><ul class='xr-var-list'></ul></div></li><li class='xr-section-item'><input id='section-108aee67-461e-4f04-a7d8-594091c8d94d' class='xr-section-summary-in' type='checkbox' disabled ><label for='section-108aee67-461e-4f04-a7d8-594091c8d94d' class='xr-section-summary'  title='Expand/collapse section'>Attributes: <span>(0)</span></label><div class='xr-section-inline-details'></div><div class='xr-section-details'><dl class='xr-attrs'></dl></div></li></ul></div></div>"
      ],
      "text/plain": [
       "<xarray.DataArray 'ww_ct' ()>\n",
       "array(266856)"
      ]
     },
     "execution_count": 12,
     "metadata": {},
     "output_type": "execute_result"
    }
   ],
   "source": [
    "ds.ww_ct.notnull().sum()"
   ]
  },
  {
   "cell_type": "code",
   "execution_count": 7,
   "id": "f836f4d9-e8c4-4827-88f0-95e8a7ba7df6",
   "metadata": {},
   "outputs": [],
   "source": [
    "ds = xr.open_dataset(path+'/data/hydrographic_profiles/ww_gauss_smoothed_ds.nc')\n",
    "\n",
    "for i,d in enumerate(np.unique(ds.dsource)):\n",
    "    idx = np.where(ds.dsource == d)[0]\n",
    "    ds['dsource'][idx] = i+1\n",
    "\n",
    "ds.dsource.attrs['description'] = \"'Argo':1, 'CTD':2, 'Gliders':3, 'MEOP':4, 'SOCCOM':5\"\n",
    "ds['dsource'] = ds['dsource'].astype(int)"
   ]
  },
  {
   "cell_type": "markdown",
   "id": "cc0c6b00-b878-40cf-b7a8-0018017eb9a4",
   "metadata": {},
   "source": [
    "## conver from pres to z"
   ]
  },
  {
   "cell_type": "code",
   "execution_count": 9,
   "id": "9016fd71-408c-4165-bff7-5f50dcca8d98",
   "metadata": {},
   "outputs": [],
   "source": [
    "mld = np.ndarray(ds.mlp.shape)*np.nan\n",
    "ub  = np.ndarray(ds.up_bd.shape)*np.nan\n",
    "lb  = np.ndarray(ds.lw_bd.shape)*np.nan\n",
    "cd  = np.ndarray(ds.ww_cp.shape)*np.nan\n",
    "\n",
    "# find indeces of profiles containing WW\n",
    "idx = np.where(ds.ww_type.notnull())[0]\n",
    "tmp = ds.isel(n_prof=idx)\n",
    "\n",
    "#\n",
    "mlp = ds.mlp.data\n",
    "cp  = tmp.ww_cp.data\n",
    "ubp = tmp.up_bd.data\n",
    "lbp = tmp.lw_bd.data\n",
    "lt  = tmp.lat.data\n",
    "\n",
    "mld     = gsw.z_from_p(mlp,ds.lat.data)\n",
    "cd[idx] = gsw.z_from_p(cp,lt)\n",
    "ub[idx] = gsw.z_from_p(ubp,lt)\n",
    "lb[idx] = gsw.z_from_p(lbp,lt)\n",
    "\n",
    "thcc = lb - ub"
   ]
  },
  {
   "cell_type": "code",
   "execution_count": 10,
   "id": "69f7a5ff-5a92-4a78-ae44-680afccd3295",
   "metadata": {},
   "outputs": [],
   "source": [
    "# add depth variables to dataset\n",
    "ds['mld']   = xr.DataArray(mld,\n",
    "                           dims   = {'n_prof':ds.n_prof.data},\n",
    "                           coords = {'n_prof':ds.n_prof.data},\n",
    "                            )\n",
    "ds['ww_cd'] = xr.DataArray(cd,\n",
    "                           dims   = {'n_prof':ds.n_prof.data},\n",
    "                           coords = {'n_prof':ds.n_prof.data},\n",
    "                            )\n",
    "ds['up_bd'] = xr.DataArray(ub,\n",
    "                           dims   = {'n_prof':ds.n_prof.data},\n",
    "                           coords = {'n_prof':ds.n_prof.data},\n",
    "                            )\n",
    "ds['lw_bd'] = xr.DataArray(lb,\n",
    "                           dims   = {'n_prof':ds.n_prof.data},\n",
    "                           coords = {'n_prof':ds.n_prof.data},\n",
    "                            )\n",
    "ds['thcc']  = xr.DataArray(thcc,\n",
    "                           dims   = {'n_prof':ds.n_prof.data},\n",
    "                           coords = {'n_prof':ds.n_prof.data},\n",
    "                            )"
   ]
  },
  {
   "cell_type": "code",
   "execution_count": 11,
   "id": "5b2e25ae-cf56-429b-abfd-fdb5420965df",
   "metadata": {},
   "outputs": [
    {
     "data": {
      "application/vnd.jupyter.widget-view+json": {
       "model_id": "cdea90d92c7b4ca69b5dc5ef71838a91",
       "version_major": 2,
       "version_minor": 0
      },
      "text/plain": [
       "vars:   0%|          | 0/5 [00:00<?, ?it/s]"
      ]
     },
     "metadata": {},
     "output_type": "display_data"
    },
    {
     "data": {
      "application/vnd.jupyter.widget-view+json": {
       "model_id": "2df3586cb19147f5862e82b30d326e0d",
       "version_major": 2,
       "version_minor": 0
      },
      "text/plain": [
       "  0%|          | 0/4 [00:00<?, ?it/s]"
      ]
     },
     "metadata": {},
     "output_type": "display_data"
    },
    {
     "data": {
      "application/vnd.jupyter.widget-view+json": {
       "model_id": "94e1bba7076a4768bc9548cd8700ea80",
       "version_major": 2,
       "version_minor": 0
      },
      "text/plain": [
       "  0%|          | 0/4 [00:00<?, ?it/s]"
      ]
     },
     "metadata": {},
     "output_type": "display_data"
    },
    {
     "data": {
      "application/vnd.jupyter.widget-view+json": {
       "model_id": "25e8252711304ce0ae35c53397d99676",
       "version_major": 2,
       "version_minor": 0
      },
      "text/plain": [
       "  0%|          | 0/4 [00:00<?, ?it/s]"
      ]
     },
     "metadata": {},
     "output_type": "display_data"
    },
    {
     "data": {
      "application/vnd.jupyter.widget-view+json": {
       "model_id": "de42f7f9f953499594ff9ad91fb5693f",
       "version_major": 2,
       "version_minor": 0
      },
      "text/plain": [
       "  0%|          | 0/4 [00:00<?, ?it/s]"
      ]
     },
     "metadata": {},
     "output_type": "display_data"
    },
    {
     "data": {
      "application/vnd.jupyter.widget-view+json": {
       "model_id": "f2309aaf40bf4e0ea6d6451e481005aa",
       "version_major": 2,
       "version_minor": 0
      },
      "text/plain": [
       "  0%|          | 0/4 [00:00<?, ?it/s]"
      ]
     },
     "metadata": {},
     "output_type": "display_data"
    },
    {
     "data": {
      "application/vnd.jupyter.widget-view+json": {
       "model_id": "78191f0432824e38abdfd45436ee5bfb",
       "version_major": 2,
       "version_minor": 0
      },
      "text/plain": [
       "  0%|          | 0/4 [00:00<?, ?it/s]"
      ]
     },
     "metadata": {},
     "output_type": "display_data"
    },
    {
     "data": {
      "application/vnd.jupyter.widget-view+json": {
       "model_id": "7b70b0bea3a9465d86a6bb04695098af",
       "version_major": 2,
       "version_minor": 0
      },
      "text/plain": [
       "vars:   0%|          | 0/8 [00:00<?, ?it/s]"
      ]
     },
     "metadata": {},
     "output_type": "display_data"
    },
    {
     "data": {
      "application/vnd.jupyter.widget-view+json": {
       "model_id": "672d6a1cef8b4577b3ac1f6c1cf2d56d",
       "version_major": 2,
       "version_minor": 0
      },
      "text/plain": [
       "  0%|          | 0/4 [00:00<?, ?it/s]"
      ]
     },
     "metadata": {},
     "output_type": "display_data"
    },
    {
     "data": {
      "application/vnd.jupyter.widget-view+json": {
       "model_id": "901c3cdcaac64563a727872e197d00e2",
       "version_major": 2,
       "version_minor": 0
      },
      "text/plain": [
       "  0%|          | 0/4 [00:00<?, ?it/s]"
      ]
     },
     "metadata": {},
     "output_type": "display_data"
    },
    {
     "data": {
      "application/vnd.jupyter.widget-view+json": {
       "model_id": "9964cd5902fa41d0a4544442b57c065c",
       "version_major": 2,
       "version_minor": 0
      },
      "text/plain": [
       "  0%|          | 0/4 [00:00<?, ?it/s]"
      ]
     },
     "metadata": {},
     "output_type": "display_data"
    },
    {
     "data": {
      "application/vnd.jupyter.widget-view+json": {
       "model_id": "6ffcee6572b64c44b2171021f2bf3b3f",
       "version_major": 2,
       "version_minor": 0
      },
      "text/plain": [
       "  0%|          | 0/4 [00:00<?, ?it/s]"
      ]
     },
     "metadata": {},
     "output_type": "display_data"
    },
    {
     "data": {
      "application/vnd.jupyter.widget-view+json": {
       "model_id": "354f64c54ea8466e855542f1b5f0348a",
       "version_major": 2,
       "version_minor": 0
      },
      "text/plain": [
       "  0%|          | 0/4 [00:00<?, ?it/s]"
      ]
     },
     "metadata": {},
     "output_type": "display_data"
    },
    {
     "data": {
      "application/vnd.jupyter.widget-view+json": {
       "model_id": "eee92d678d894f7ea8732c3683d22cd1",
       "version_major": 2,
       "version_minor": 0
      },
      "text/plain": [
       "  0%|          | 0/4 [00:00<?, ?it/s]"
      ]
     },
     "metadata": {},
     "output_type": "display_data"
    },
    {
     "data": {
      "application/vnd.jupyter.widget-view+json": {
       "model_id": "5004b8005d604420bec9b9125a295354",
       "version_major": 2,
       "version_minor": 0
      },
      "text/plain": [
       "  0%|          | 0/4 [00:00<?, ?it/s]"
      ]
     },
     "metadata": {},
     "output_type": "display_data"
    },
    {
     "data": {
      "application/vnd.jupyter.widget-view+json": {
       "model_id": "552645f0ff4b42b5a146ac9cdd1913c9",
       "version_major": 2,
       "version_minor": 0
      },
      "text/plain": [
       "  0%|          | 0/4 [00:00<?, ?it/s]"
      ]
     },
     "metadata": {},
     "output_type": "display_data"
    },
    {
     "data": {
      "application/vnd.jupyter.widget-view+json": {
       "model_id": "500b6d45d7904841b9cb1c1fd10dfd24",
       "version_major": 2,
       "version_minor": 0
      },
      "text/plain": [
       "  0%|          | 0/4 [00:00<?, ?it/s]"
      ]
     },
     "metadata": {},
     "output_type": "display_data"
    },
    {
     "data": {
      "application/vnd.jupyter.widget-view+json": {
       "model_id": "be2ad2dcd1ba4968a87861caceb9b35c",
       "version_major": 2,
       "version_minor": 0
      },
      "text/plain": [
       "  0%|          | 0/4 [00:00<?, ?it/s]"
      ]
     },
     "metadata": {},
     "output_type": "display_data"
    },
    {
     "data": {
      "application/vnd.jupyter.widget-view+json": {
       "model_id": "b154b520c24d4136a745b5b49eb7a5df",
       "version_major": 2,
       "version_minor": 0
      },
      "text/plain": [
       "  0%|          | 0/4 [00:00<?, ?it/s]"
      ]
     },
     "metadata": {},
     "output_type": "display_data"
    },
    {
     "data": {
      "application/vnd.jupyter.widget-view+json": {
       "model_id": "2a9457e491bc457e9c9984b633588686",
       "version_major": 2,
       "version_minor": 0
      },
      "text/plain": [
       "  0%|          | 0/4 [00:00<?, ?it/s]"
      ]
     },
     "metadata": {},
     "output_type": "display_data"
    }
   ],
   "source": [
    "ds_ww = ds.isel(n_prof=np.where(ds.ww_type.notnull())[0]).copy()\n",
    "\n",
    "clim = 'season'\n",
    "\n",
    "dvars_4 = [] # 4D vars\n",
    "for i in tqdm(['asal', 'ctemp', 'rho','sig','n2',],\"vars\"):\n",
    "    dvars_4 += median_gridding_szn(ds[i]),\n",
    "\n",
    "ww_vars = ['up_bd','ww_cd','ww_ct','ww_sa','lw_bd','thcc','ww_n2','sig_c']\n",
    "\n",
    "dvars_3 = [] # 3D vars\n",
    "\n",
    "dvars_3 += median_gridding_szn(ds['mld'],),\n",
    "for i in tqdm(ww_vars,\"vars\"):\n",
    "    dvars_3 += median_gridding_szn(ds_ww[i],),\n",
    "\n",
    "n_prof  = count_gridding_szn(ds['n_prof'],)\n",
    "ww_prof = count_gridding_szn(ds_ww['n_prof'],)\n",
    "dsource = mode_gridding_szn(ds['dsource'])\n",
    "ww_type = mode_gridding_szn(ds_ww['ww_type'])"
   ]
  },
  {
   "cell_type": "code",
   "execution_count": 13,
   "id": "1e2fc46c-791a-46d4-b634-a3fb53cc1f50",
   "metadata": {},
   "outputs": [
    {
     "data": {
      "application/vnd.jupyter.widget-view+json": {
       "model_id": "dd16a61ddbcf4341a236fb9c7cf2cab9",
       "version_major": 2,
       "version_minor": 0
      },
      "text/plain": [
       "  0%|          | 0/4 [00:00<?, ?it/s]"
      ]
     },
     "metadata": {},
     "output_type": "display_data"
    },
    {
     "data": {
      "application/vnd.jupyter.widget-view+json": {
       "model_id": "d8eaa7e651f74c84aeb8fba400dea654",
       "version_major": 2,
       "version_minor": 0
      },
      "text/plain": [
       "vars:   0%|          | 0/8 [00:00<?, ?it/s]"
      ]
     },
     "metadata": {},
     "output_type": "display_data"
    },
    {
     "data": {
      "application/vnd.jupyter.widget-view+json": {
       "model_id": "1bcd4d3f5c074eb8b443f12dc2765ceb",
       "version_major": 2,
       "version_minor": 0
      },
      "text/plain": [
       "  0%|          | 0/4 [00:00<?, ?it/s]"
      ]
     },
     "metadata": {},
     "output_type": "display_data"
    },
    {
     "data": {
      "application/vnd.jupyter.widget-view+json": {
       "model_id": "d27dc6fd676645a4ae1b6ed1abcba2f0",
       "version_major": 2,
       "version_minor": 0
      },
      "text/plain": [
       "  0%|          | 0/4 [00:00<?, ?it/s]"
      ]
     },
     "metadata": {},
     "output_type": "display_data"
    },
    {
     "data": {
      "application/vnd.jupyter.widget-view+json": {
       "model_id": "787dc8271ded416d93c199e1afe4d40d",
       "version_major": 2,
       "version_minor": 0
      },
      "text/plain": [
       "  0%|          | 0/4 [00:00<?, ?it/s]"
      ]
     },
     "metadata": {},
     "output_type": "display_data"
    },
    {
     "data": {
      "application/vnd.jupyter.widget-view+json": {
       "model_id": "d3380363e8c24ffebed358492b534e6c",
       "version_major": 2,
       "version_minor": 0
      },
      "text/plain": [
       "  0%|          | 0/4 [00:00<?, ?it/s]"
      ]
     },
     "metadata": {},
     "output_type": "display_data"
    },
    {
     "data": {
      "application/vnd.jupyter.widget-view+json": {
       "model_id": "222063801d3f46f297a7100c5a16a16f",
       "version_major": 2,
       "version_minor": 0
      },
      "text/plain": [
       "  0%|          | 0/4 [00:00<?, ?it/s]"
      ]
     },
     "metadata": {},
     "output_type": "display_data"
    },
    {
     "data": {
      "application/vnd.jupyter.widget-view+json": {
       "model_id": "635f9319e51f4583834d0fd0b28e37ef",
       "version_major": 2,
       "version_minor": 0
      },
      "text/plain": [
       "  0%|          | 0/4 [00:00<?, ?it/s]"
      ]
     },
     "metadata": {},
     "output_type": "display_data"
    },
    {
     "data": {
      "application/vnd.jupyter.widget-view+json": {
       "model_id": "fa80e641e621419d9c7e3a4fd919b63a",
       "version_major": 2,
       "version_minor": 0
      },
      "text/plain": [
       "  0%|          | 0/4 [00:00<?, ?it/s]"
      ]
     },
     "metadata": {},
     "output_type": "display_data"
    },
    {
     "data": {
      "application/vnd.jupyter.widget-view+json": {
       "model_id": "499a18f8ea5543c29c1c39cb2168c5fe",
       "version_major": 2,
       "version_minor": 0
      },
      "text/plain": [
       "  0%|          | 0/4 [00:00<?, ?it/s]"
      ]
     },
     "metadata": {},
     "output_type": "display_data"
    },
    {
     "data": {
      "application/vnd.jupyter.widget-view+json": {
       "model_id": "5c1488bbcc6a4b2d925017b5022cb9be",
       "version_major": 2,
       "version_minor": 0
      },
      "text/plain": [
       "  0%|          | 0/4 [00:00<?, ?it/s]"
      ]
     },
     "metadata": {},
     "output_type": "display_data"
    },
    {
     "data": {
      "application/vnd.jupyter.widget-view+json": {
       "model_id": "4f6745a450cc4d029e00fa57f9c21e9e",
       "version_major": 2,
       "version_minor": 0
      },
      "text/plain": [
       "  0%|          | 0/4 [00:00<?, ?it/s]"
      ]
     },
     "metadata": {},
     "output_type": "display_data"
    },
    {
     "data": {
      "application/vnd.jupyter.widget-view+json": {
       "model_id": "54a90d60cbf54200bc8e1f2f4f0fb630",
       "version_major": 2,
       "version_minor": 0
      },
      "text/plain": [
       "  0%|          | 0/4 [00:00<?, ?it/s]"
      ]
     },
     "metadata": {},
     "output_type": "display_data"
    },
    {
     "data": {
      "application/vnd.jupyter.widget-view+json": {
       "model_id": "9254dba7f4ec44e483cbf14f73255fd9",
       "version_major": 2,
       "version_minor": 0
      },
      "text/plain": [
       "  0%|          | 0/4 [00:00<?, ?it/s]"
      ]
     },
     "metadata": {},
     "output_type": "display_data"
    }
   ],
   "source": [
    "ds_ww = ds.isel(n_prof=np.where(ds.ww_type.notnull())[0]).copy()\n",
    "\n",
    "# run gridding through other vars\n",
    "dvars_3 = [] # 3D vars\n",
    "dvars_3 += median_gridding_szn(ds['mld'],),\n",
    "for i in tqdm(ww_vars,\"vars\"):\n",
    "    dvars_3 += median_gridding_szn(ds_ww[i],),\n",
    "\n",
    "n_prof  = count_gridding_szn(ds['n_prof'],)\n",
    "ww_prof = count_gridding_szn(ds_ww['n_prof'],)\n",
    "dsource = mode_gridding_szn(ds['dsource'])\n",
    "ww_type = mode_gridding_szn(ds_ww['ww_type'])"
   ]
  },
  {
   "cell_type": "code",
   "execution_count": 16,
   "id": "f64fed87-2b8c-4e05-baa0-ae77938bdc15",
   "metadata": {},
   "outputs": [
    {
     "data": {
      "text/html": [
       "<div><svg style=\"position: absolute; width: 0; height: 0; overflow: hidden\">\n",
       "<defs>\n",
       "<symbol id=\"icon-database\" viewBox=\"0 0 32 32\">\n",
       "<path d=\"M16 0c-8.837 0-16 2.239-16 5v4c0 2.761 7.163 5 16 5s16-2.239 16-5v-4c0-2.761-7.163-5-16-5z\"></path>\n",
       "<path d=\"M16 17c-8.837 0-16-2.239-16-5v6c0 2.761 7.163 5 16 5s16-2.239 16-5v-6c0 2.761-7.163 5-16 5z\"></path>\n",
       "<path d=\"M16 26c-8.837 0-16-2.239-16-5v6c0 2.761 7.163 5 16 5s16-2.239 16-5v-6c0 2.761-7.163 5-16 5z\"></path>\n",
       "</symbol>\n",
       "<symbol id=\"icon-file-text2\" viewBox=\"0 0 32 32\">\n",
       "<path d=\"M28.681 7.159c-0.694-0.947-1.662-2.053-2.724-3.116s-2.169-2.030-3.116-2.724c-1.612-1.182-2.393-1.319-2.841-1.319h-15.5c-1.378 0-2.5 1.121-2.5 2.5v27c0 1.378 1.122 2.5 2.5 2.5h23c1.378 0 2.5-1.122 2.5-2.5v-19.5c0-0.448-0.137-1.23-1.319-2.841zM24.543 5.457c0.959 0.959 1.712 1.825 2.268 2.543h-4.811v-4.811c0.718 0.556 1.584 1.309 2.543 2.268zM28 29.5c0 0.271-0.229 0.5-0.5 0.5h-23c-0.271 0-0.5-0.229-0.5-0.5v-27c0-0.271 0.229-0.5 0.5-0.5 0 0 15.499-0 15.5 0v7c0 0.552 0.448 1 1 1h7v19.5z\"></path>\n",
       "<path d=\"M23 26h-14c-0.552 0-1-0.448-1-1s0.448-1 1-1h14c0.552 0 1 0.448 1 1s-0.448 1-1 1z\"></path>\n",
       "<path d=\"M23 22h-14c-0.552 0-1-0.448-1-1s0.448-1 1-1h14c0.552 0 1 0.448 1 1s-0.448 1-1 1z\"></path>\n",
       "<path d=\"M23 18h-14c-0.552 0-1-0.448-1-1s0.448-1 1-1h14c0.552 0 1 0.448 1 1s-0.448 1-1 1z\"></path>\n",
       "</symbol>\n",
       "</defs>\n",
       "</svg>\n",
       "<style>/* CSS stylesheet for displaying xarray objects in jupyterlab.\n",
       " *\n",
       " */\n",
       "\n",
       ":root {\n",
       "  --xr-font-color0: var(--jp-content-font-color0, rgba(0, 0, 0, 1));\n",
       "  --xr-font-color2: var(--jp-content-font-color2, rgba(0, 0, 0, 0.54));\n",
       "  --xr-font-color3: var(--jp-content-font-color3, rgba(0, 0, 0, 0.38));\n",
       "  --xr-border-color: var(--jp-border-color2, #e0e0e0);\n",
       "  --xr-disabled-color: var(--jp-layout-color3, #bdbdbd);\n",
       "  --xr-background-color: var(--jp-layout-color0, white);\n",
       "  --xr-background-color-row-even: var(--jp-layout-color1, white);\n",
       "  --xr-background-color-row-odd: var(--jp-layout-color2, #eeeeee);\n",
       "}\n",
       "\n",
       "html[theme=dark],\n",
       "body[data-theme=dark],\n",
       "body.vscode-dark {\n",
       "  --xr-font-color0: rgba(255, 255, 255, 1);\n",
       "  --xr-font-color2: rgba(255, 255, 255, 0.54);\n",
       "  --xr-font-color3: rgba(255, 255, 255, 0.38);\n",
       "  --xr-border-color: #1F1F1F;\n",
       "  --xr-disabled-color: #515151;\n",
       "  --xr-background-color: #111111;\n",
       "  --xr-background-color-row-even: #111111;\n",
       "  --xr-background-color-row-odd: #313131;\n",
       "}\n",
       "\n",
       ".xr-wrap {\n",
       "  display: block !important;\n",
       "  min-width: 300px;\n",
       "  max-width: 700px;\n",
       "}\n",
       "\n",
       ".xr-text-repr-fallback {\n",
       "  /* fallback to plain text repr when CSS is not injected (untrusted notebook) */\n",
       "  display: none;\n",
       "}\n",
       "\n",
       ".xr-header {\n",
       "  padding-top: 6px;\n",
       "  padding-bottom: 6px;\n",
       "  margin-bottom: 4px;\n",
       "  border-bottom: solid 1px var(--xr-border-color);\n",
       "}\n",
       "\n",
       ".xr-header > div,\n",
       ".xr-header > ul {\n",
       "  display: inline;\n",
       "  margin-top: 0;\n",
       "  margin-bottom: 0;\n",
       "}\n",
       "\n",
       ".xr-obj-type,\n",
       ".xr-array-name {\n",
       "  margin-left: 2px;\n",
       "  margin-right: 10px;\n",
       "}\n",
       "\n",
       ".xr-obj-type {\n",
       "  color: var(--xr-font-color2);\n",
       "}\n",
       "\n",
       ".xr-sections {\n",
       "  padding-left: 0 !important;\n",
       "  display: grid;\n",
       "  grid-template-columns: 150px auto auto 1fr 20px 20px;\n",
       "}\n",
       "\n",
       ".xr-section-item {\n",
       "  display: contents;\n",
       "}\n",
       "\n",
       ".xr-section-item input {\n",
       "  display: none;\n",
       "}\n",
       "\n",
       ".xr-section-item input + label {\n",
       "  color: var(--xr-disabled-color);\n",
       "}\n",
       "\n",
       ".xr-section-item input:enabled + label {\n",
       "  cursor: pointer;\n",
       "  color: var(--xr-font-color2);\n",
       "}\n",
       "\n",
       ".xr-section-item input:enabled + label:hover {\n",
       "  color: var(--xr-font-color0);\n",
       "}\n",
       "\n",
       ".xr-section-summary {\n",
       "  grid-column: 1;\n",
       "  color: var(--xr-font-color2);\n",
       "  font-weight: 500;\n",
       "}\n",
       "\n",
       ".xr-section-summary > span {\n",
       "  display: inline-block;\n",
       "  padding-left: 0.5em;\n",
       "}\n",
       "\n",
       ".xr-section-summary-in:disabled + label {\n",
       "  color: var(--xr-font-color2);\n",
       "}\n",
       "\n",
       ".xr-section-summary-in + label:before {\n",
       "  display: inline-block;\n",
       "  content: '►';\n",
       "  font-size: 11px;\n",
       "  width: 15px;\n",
       "  text-align: center;\n",
       "}\n",
       "\n",
       ".xr-section-summary-in:disabled + label:before {\n",
       "  color: var(--xr-disabled-color);\n",
       "}\n",
       "\n",
       ".xr-section-summary-in:checked + label:before {\n",
       "  content: '▼';\n",
       "}\n",
       "\n",
       ".xr-section-summary-in:checked + label > span {\n",
       "  display: none;\n",
       "}\n",
       "\n",
       ".xr-section-summary,\n",
       ".xr-section-inline-details {\n",
       "  padding-top: 4px;\n",
       "  padding-bottom: 4px;\n",
       "}\n",
       "\n",
       ".xr-section-inline-details {\n",
       "  grid-column: 2 / -1;\n",
       "}\n",
       "\n",
       ".xr-section-details {\n",
       "  display: none;\n",
       "  grid-column: 1 / -1;\n",
       "  margin-bottom: 5px;\n",
       "}\n",
       "\n",
       ".xr-section-summary-in:checked ~ .xr-section-details {\n",
       "  display: contents;\n",
       "}\n",
       "\n",
       ".xr-array-wrap {\n",
       "  grid-column: 1 / -1;\n",
       "  display: grid;\n",
       "  grid-template-columns: 20px auto;\n",
       "}\n",
       "\n",
       ".xr-array-wrap > label {\n",
       "  grid-column: 1;\n",
       "  vertical-align: top;\n",
       "}\n",
       "\n",
       ".xr-preview {\n",
       "  color: var(--xr-font-color3);\n",
       "}\n",
       "\n",
       ".xr-array-preview,\n",
       ".xr-array-data {\n",
       "  padding: 0 5px !important;\n",
       "  grid-column: 2;\n",
       "}\n",
       "\n",
       ".xr-array-data,\n",
       ".xr-array-in:checked ~ .xr-array-preview {\n",
       "  display: none;\n",
       "}\n",
       "\n",
       ".xr-array-in:checked ~ .xr-array-data,\n",
       ".xr-array-preview {\n",
       "  display: inline-block;\n",
       "}\n",
       "\n",
       ".xr-dim-list {\n",
       "  display: inline-block !important;\n",
       "  list-style: none;\n",
       "  padding: 0 !important;\n",
       "  margin: 0;\n",
       "}\n",
       "\n",
       ".xr-dim-list li {\n",
       "  display: inline-block;\n",
       "  padding: 0;\n",
       "  margin: 0;\n",
       "}\n",
       "\n",
       ".xr-dim-list:before {\n",
       "  content: '(';\n",
       "}\n",
       "\n",
       ".xr-dim-list:after {\n",
       "  content: ')';\n",
       "}\n",
       "\n",
       ".xr-dim-list li:not(:last-child):after {\n",
       "  content: ',';\n",
       "  padding-right: 5px;\n",
       "}\n",
       "\n",
       ".xr-has-index {\n",
       "  font-weight: bold;\n",
       "}\n",
       "\n",
       ".xr-var-list,\n",
       ".xr-var-item {\n",
       "  display: contents;\n",
       "}\n",
       "\n",
       ".xr-var-item > div,\n",
       ".xr-var-item label,\n",
       ".xr-var-item > .xr-var-name span {\n",
       "  background-color: var(--xr-background-color-row-even);\n",
       "  margin-bottom: 0;\n",
       "}\n",
       "\n",
       ".xr-var-item > .xr-var-name:hover span {\n",
       "  padding-right: 5px;\n",
       "}\n",
       "\n",
       ".xr-var-list > li:nth-child(odd) > div,\n",
       ".xr-var-list > li:nth-child(odd) > label,\n",
       ".xr-var-list > li:nth-child(odd) > .xr-var-name span {\n",
       "  background-color: var(--xr-background-color-row-odd);\n",
       "}\n",
       "\n",
       ".xr-var-name {\n",
       "  grid-column: 1;\n",
       "}\n",
       "\n",
       ".xr-var-dims {\n",
       "  grid-column: 2;\n",
       "}\n",
       "\n",
       ".xr-var-dtype {\n",
       "  grid-column: 3;\n",
       "  text-align: right;\n",
       "  color: var(--xr-font-color2);\n",
       "}\n",
       "\n",
       ".xr-var-preview {\n",
       "  grid-column: 4;\n",
       "}\n",
       "\n",
       ".xr-index-preview {\n",
       "  grid-column: 2 / 5;\n",
       "  color: var(--xr-font-color2);\n",
       "}\n",
       "\n",
       ".xr-var-name,\n",
       ".xr-var-dims,\n",
       ".xr-var-dtype,\n",
       ".xr-preview,\n",
       ".xr-attrs dt {\n",
       "  white-space: nowrap;\n",
       "  overflow: hidden;\n",
       "  text-overflow: ellipsis;\n",
       "  padding-right: 10px;\n",
       "}\n",
       "\n",
       ".xr-var-name:hover,\n",
       ".xr-var-dims:hover,\n",
       ".xr-var-dtype:hover,\n",
       ".xr-attrs dt:hover {\n",
       "  overflow: visible;\n",
       "  width: auto;\n",
       "  z-index: 1;\n",
       "}\n",
       "\n",
       ".xr-var-attrs,\n",
       ".xr-var-data,\n",
       ".xr-index-data {\n",
       "  display: none;\n",
       "  background-color: var(--xr-background-color) !important;\n",
       "  padding-bottom: 5px !important;\n",
       "}\n",
       "\n",
       ".xr-var-attrs-in:checked ~ .xr-var-attrs,\n",
       ".xr-var-data-in:checked ~ .xr-var-data,\n",
       ".xr-index-data-in:checked ~ .xr-index-data {\n",
       "  display: block;\n",
       "}\n",
       "\n",
       ".xr-var-data > table {\n",
       "  float: right;\n",
       "}\n",
       "\n",
       ".xr-var-name span,\n",
       ".xr-var-data,\n",
       ".xr-index-name div,\n",
       ".xr-index-data,\n",
       ".xr-attrs {\n",
       "  padding-left: 25px !important;\n",
       "}\n",
       "\n",
       ".xr-attrs,\n",
       ".xr-var-attrs,\n",
       ".xr-var-data,\n",
       ".xr-index-data {\n",
       "  grid-column: 1 / -1;\n",
       "}\n",
       "\n",
       "dl.xr-attrs {\n",
       "  padding: 0;\n",
       "  margin: 0;\n",
       "  display: grid;\n",
       "  grid-template-columns: 125px auto;\n",
       "}\n",
       "\n",
       ".xr-attrs dt,\n",
       ".xr-attrs dd {\n",
       "  padding: 0;\n",
       "  margin: 0;\n",
       "  float: left;\n",
       "  padding-right: 10px;\n",
       "  width: auto;\n",
       "}\n",
       "\n",
       ".xr-attrs dt {\n",
       "  font-weight: normal;\n",
       "  grid-column: 1;\n",
       "}\n",
       "\n",
       ".xr-attrs dt:hover span {\n",
       "  display: inline-block;\n",
       "  background: var(--xr-background-color);\n",
       "  padding-right: 10px;\n",
       "}\n",
       "\n",
       ".xr-attrs dd {\n",
       "  grid-column: 2;\n",
       "  white-space: pre-wrap;\n",
       "  word-break: break-all;\n",
       "}\n",
       "\n",
       ".xr-icon-database,\n",
       ".xr-icon-file-text2,\n",
       ".xr-no-icon {\n",
       "  display: inline-block;\n",
       "  vertical-align: middle;\n",
       "  width: 1em;\n",
       "  height: 1.5em !important;\n",
       "  stroke-width: 0;\n",
       "  stroke: currentColor;\n",
       "  fill: currentColor;\n",
       "}\n",
       "</style><pre class='xr-text-repr-fallback'>&lt;xarray.Dataset&gt;\n",
       "Dimensions:  (n_prof: 592946, pres: 196)\n",
       "Coordinates:\n",
       "  * n_prof   (n_prof) int64 0 1 2 3 4 5 ... 620288 620289 620290 620291 620292\n",
       "  * pres     (pres) int64 10 12 14 16 18 20 22 ... 388 390 392 394 396 398 400\n",
       "    lon      (n_prof) float64 ...\n",
       "    lat      (n_prof) float64 -57.46 -69.32 -58.43 ... -41.05 -42.42 -65.83\n",
       "    time     (n_prof) datetime64[ns] 2004-01-01T10:01:28.999999744 ... 2021-1...\n",
       "Data variables: (12/21)\n",
       "    temp     (n_prof, pres) float64 ...\n",
       "    psal     (n_prof, pres) float64 ...\n",
       "    dsource  (n_prof) int64 1 1 1 1 1 1 1 1 1 1 1 1 ... 1 1 1 1 1 1 1 1 1 1 1 1\n",
       "    mld      (n_prof) float64 -11.89 -33.65 -9.907 ... -53.57 -21.83 -9.901\n",
       "    asal     (n_prof, pres) float32 ...\n",
       "    ctemp    (n_prof, pres) float32 ...\n",
       "    ...       ...\n",
       "    lw_bd    (n_prof) float64 -116.9 -162.3 -122.8 nan ... -95.06 nan nan -132.6\n",
       "    ww_type  (n_prof) float64 2.0 2.0 2.0 nan 2.0 2.0 ... nan 2.0 nan nan 2.0\n",
       "    thcc     (n_prof) float64 -105.0 -128.6 -112.9 nan ... -67.33 nan nan -122.7\n",
       "    ww_n2    (n_prof) float64 ...\n",
       "    ww_msk   (n_prof, pres) float64 ...\n",
       "    ww_cd    (n_prof) float64 -89.15 -89.07 -71.32 nan ... -75.26 nan nan -43.56\n",
       "Attributes:\n",
       "    description:  Interpolated dataset from 2004 to 2021. Contains MLD from p...</pre><div class='xr-wrap' style='display:none'><div class='xr-header'><div class='xr-obj-type'>xarray.Dataset</div></div><ul class='xr-sections'><li class='xr-section-item'><input id='section-902cf434-f0d9-495f-bf19-fa9220518371' class='xr-section-summary-in' type='checkbox' disabled ><label for='section-902cf434-f0d9-495f-bf19-fa9220518371' class='xr-section-summary'  title='Expand/collapse section'>Dimensions:</label><div class='xr-section-inline-details'><ul class='xr-dim-list'><li><span class='xr-has-index'>n_prof</span>: 592946</li><li><span class='xr-has-index'>pres</span>: 196</li></ul></div><div class='xr-section-details'></div></li><li class='xr-section-item'><input id='section-60270c33-f795-4689-a921-d218a140db25' class='xr-section-summary-in' type='checkbox'  checked><label for='section-60270c33-f795-4689-a921-d218a140db25' class='xr-section-summary' >Coordinates: <span>(5)</span></label><div class='xr-section-inline-details'></div><div class='xr-section-details'><ul class='xr-var-list'><li class='xr-var-item'><div class='xr-var-name'><span class='xr-has-index'>n_prof</span></div><div class='xr-var-dims'>(n_prof)</div><div class='xr-var-dtype'>int64</div><div class='xr-var-preview xr-preview'>0 1 2 3 ... 620290 620291 620292</div><input id='attrs-d638c8f9-f1f2-4c72-bffb-0e587c1df207' class='xr-var-attrs-in' type='checkbox' disabled><label for='attrs-d638c8f9-f1f2-4c72-bffb-0e587c1df207' title='Show/Hide attributes'><svg class='icon xr-icon-file-text2'><use xlink:href='#icon-file-text2'></use></svg></label><input id='data-ea85d231-47d7-41c9-a341-0fc61c45b3c0' class='xr-var-data-in' type='checkbox'><label for='data-ea85d231-47d7-41c9-a341-0fc61c45b3c0' title='Show/Hide data repr'><svg class='icon xr-icon-database'><use xlink:href='#icon-database'></use></svg></label><div class='xr-var-attrs'><dl class='xr-attrs'></dl></div><div class='xr-var-data'><pre>array([     0,      1,      2, ..., 620290, 620291, 620292])</pre></div></li><li class='xr-var-item'><div class='xr-var-name'><span class='xr-has-index'>pres</span></div><div class='xr-var-dims'>(pres)</div><div class='xr-var-dtype'>int64</div><div class='xr-var-preview xr-preview'>10 12 14 16 18 ... 394 396 398 400</div><input id='attrs-c093c312-8899-4460-a4d6-70bd9133d3d1' class='xr-var-attrs-in' type='checkbox' disabled><label for='attrs-c093c312-8899-4460-a4d6-70bd9133d3d1' title='Show/Hide attributes'><svg class='icon xr-icon-file-text2'><use xlink:href='#icon-file-text2'></use></svg></label><input id='data-04a43c70-2652-4d4f-b82c-0b3825d7fc82' class='xr-var-data-in' type='checkbox'><label for='data-04a43c70-2652-4d4f-b82c-0b3825d7fc82' title='Show/Hide data repr'><svg class='icon xr-icon-database'><use xlink:href='#icon-database'></use></svg></label><div class='xr-var-attrs'><dl class='xr-attrs'></dl></div><div class='xr-var-data'><pre>array([ 10,  12,  14,  16,  18,  20,  22,  24,  26,  28,  30,  32,  34,  36,\n",
       "        38,  40,  42,  44,  46,  48,  50,  52,  54,  56,  58,  60,  62,  64,\n",
       "        66,  68,  70,  72,  74,  76,  78,  80,  82,  84,  86,  88,  90,  92,\n",
       "        94,  96,  98, 100, 102, 104, 106, 108, 110, 112, 114, 116, 118, 120,\n",
       "       122, 124, 126, 128, 130, 132, 134, 136, 138, 140, 142, 144, 146, 148,\n",
       "       150, 152, 154, 156, 158, 160, 162, 164, 166, 168, 170, 172, 174, 176,\n",
       "       178, 180, 182, 184, 186, 188, 190, 192, 194, 196, 198, 200, 202, 204,\n",
       "       206, 208, 210, 212, 214, 216, 218, 220, 222, 224, 226, 228, 230, 232,\n",
       "       234, 236, 238, 240, 242, 244, 246, 248, 250, 252, 254, 256, 258, 260,\n",
       "       262, 264, 266, 268, 270, 272, 274, 276, 278, 280, 282, 284, 286, 288,\n",
       "       290, 292, 294, 296, 298, 300, 302, 304, 306, 308, 310, 312, 314, 316,\n",
       "       318, 320, 322, 324, 326, 328, 330, 332, 334, 336, 338, 340, 342, 344,\n",
       "       346, 348, 350, 352, 354, 356, 358, 360, 362, 364, 366, 368, 370, 372,\n",
       "       374, 376, 378, 380, 382, 384, 386, 388, 390, 392, 394, 396, 398, 400])</pre></div></li><li class='xr-var-item'><div class='xr-var-name'><span>lon</span></div><div class='xr-var-dims'>(n_prof)</div><div class='xr-var-dtype'>float64</div><div class='xr-var-preview xr-preview'>...</div><input id='attrs-2eb4564c-4aab-417c-9314-afe241fd3076' class='xr-var-attrs-in' type='checkbox' disabled><label for='attrs-2eb4564c-4aab-417c-9314-afe241fd3076' title='Show/Hide attributes'><svg class='icon xr-icon-file-text2'><use xlink:href='#icon-file-text2'></use></svg></label><input id='data-1d203cf8-4ae2-4801-bfa6-7b336dffaf9a' class='xr-var-data-in' type='checkbox'><label for='data-1d203cf8-4ae2-4801-bfa6-7b336dffaf9a' title='Show/Hide data repr'><svg class='icon xr-icon-database'><use xlink:href='#icon-database'></use></svg></label><div class='xr-var-attrs'><dl class='xr-attrs'></dl></div><div class='xr-var-data'><pre>[592946 values with dtype=float64]</pre></div></li><li class='xr-var-item'><div class='xr-var-name'><span>lat</span></div><div class='xr-var-dims'>(n_prof)</div><div class='xr-var-dtype'>float64</div><div class='xr-var-preview xr-preview'>-57.46 -69.32 ... -42.42 -65.83</div><input id='attrs-6fd07be1-3214-4133-b50c-4c5532652d58' class='xr-var-attrs-in' type='checkbox' disabled><label for='attrs-6fd07be1-3214-4133-b50c-4c5532652d58' title='Show/Hide attributes'><svg class='icon xr-icon-file-text2'><use xlink:href='#icon-file-text2'></use></svg></label><input id='data-a4a2378d-61d6-4f1b-a746-31737ce0292f' class='xr-var-data-in' type='checkbox'><label for='data-a4a2378d-61d6-4f1b-a746-31737ce0292f' title='Show/Hide data repr'><svg class='icon xr-icon-database'><use xlink:href='#icon-database'></use></svg></label><div class='xr-var-attrs'><dl class='xr-attrs'></dl></div><div class='xr-var-data'><pre>array([-57.462   , -69.317   , -58.432   , ..., -41.05261 , -42.422   ,\n",
       "       -65.833147])</pre></div></li><li class='xr-var-item'><div class='xr-var-name'><span>time</span></div><div class='xr-var-dims'>(n_prof)</div><div class='xr-var-dtype'>datetime64[ns]</div><div class='xr-var-preview xr-preview'>2004-01-01T10:01:28.999999744 .....</div><input id='attrs-8f415d38-817f-422b-87f8-7e38ebdb1a2a' class='xr-var-attrs-in' type='checkbox' disabled><label for='attrs-8f415d38-817f-422b-87f8-7e38ebdb1a2a' title='Show/Hide attributes'><svg class='icon xr-icon-file-text2'><use xlink:href='#icon-file-text2'></use></svg></label><input id='data-1391212d-ed67-43e5-a5f9-07538bb49b8d' class='xr-var-data-in' type='checkbox'><label for='data-1391212d-ed67-43e5-a5f9-07538bb49b8d' title='Show/Hide data repr'><svg class='icon xr-icon-database'><use xlink:href='#icon-database'></use></svg></label><div class='xr-var-attrs'><dl class='xr-attrs'></dl></div><div class='xr-var-data'><pre>array([&#x27;2004-01-01T10:01:28.999999744&#x27;, &#x27;2004-01-01T14:00:26.000000000&#x27;,\n",
       "       &#x27;2004-01-02T02:11:08.000000256&#x27;, ..., &#x27;2021-12-30T19:31:53.000000000&#x27;,\n",
       "       &#x27;2021-12-30T21:14:07.000000000&#x27;, &#x27;2021-12-30T22:41:46.000000000&#x27;],\n",
       "      dtype=&#x27;datetime64[ns]&#x27;)</pre></div></li></ul></div></li><li class='xr-section-item'><input id='section-f3c14fb6-aa1b-427a-a15c-ba8df44c4963' class='xr-section-summary-in' type='checkbox'  ><label for='section-f3c14fb6-aa1b-427a-a15c-ba8df44c4963' class='xr-section-summary' >Data variables: <span>(21)</span></label><div class='xr-section-inline-details'></div><div class='xr-section-details'><ul class='xr-var-list'><li class='xr-var-item'><div class='xr-var-name'><span>temp</span></div><div class='xr-var-dims'>(n_prof, pres)</div><div class='xr-var-dtype'>float64</div><div class='xr-var-preview xr-preview'>...</div><input id='attrs-dfcc1cef-160f-48a3-b02c-1512033db8a8' class='xr-var-attrs-in' type='checkbox' disabled><label for='attrs-dfcc1cef-160f-48a3-b02c-1512033db8a8' title='Show/Hide attributes'><svg class='icon xr-icon-file-text2'><use xlink:href='#icon-file-text2'></use></svg></label><input id='data-05ca6bb7-eccc-4a97-aa8e-7f60772c20fa' class='xr-var-data-in' type='checkbox'><label for='data-05ca6bb7-eccc-4a97-aa8e-7f60772c20fa' title='Show/Hide data repr'><svg class='icon xr-icon-database'><use xlink:href='#icon-database'></use></svg></label><div class='xr-var-attrs'><dl class='xr-attrs'></dl></div><div class='xr-var-data'><pre>[116217416 values with dtype=float64]</pre></div></li><li class='xr-var-item'><div class='xr-var-name'><span>psal</span></div><div class='xr-var-dims'>(n_prof, pres)</div><div class='xr-var-dtype'>float64</div><div class='xr-var-preview xr-preview'>...</div><input id='attrs-bf07b221-0ae2-4eae-ac59-c14aab9af662' class='xr-var-attrs-in' type='checkbox' disabled><label for='attrs-bf07b221-0ae2-4eae-ac59-c14aab9af662' title='Show/Hide attributes'><svg class='icon xr-icon-file-text2'><use xlink:href='#icon-file-text2'></use></svg></label><input id='data-6b3bedc7-e9de-4c90-81da-0b9a8fa9bdbd' class='xr-var-data-in' type='checkbox'><label for='data-6b3bedc7-e9de-4c90-81da-0b9a8fa9bdbd' title='Show/Hide data repr'><svg class='icon xr-icon-database'><use xlink:href='#icon-database'></use></svg></label><div class='xr-var-attrs'><dl class='xr-attrs'></dl></div><div class='xr-var-data'><pre>[116217416 values with dtype=float64]</pre></div></li><li class='xr-var-item'><div class='xr-var-name'><span>dsource</span></div><div class='xr-var-dims'>(n_prof)</div><div class='xr-var-dtype'>int64</div><div class='xr-var-preview xr-preview'>1 1 1 1 1 1 1 1 ... 1 1 1 1 1 1 1 1</div><input id='attrs-c208345d-1b31-4322-9a7a-44d8b20cbd6e' class='xr-var-attrs-in' type='checkbox' ><label for='attrs-c208345d-1b31-4322-9a7a-44d8b20cbd6e' title='Show/Hide attributes'><svg class='icon xr-icon-file-text2'><use xlink:href='#icon-file-text2'></use></svg></label><input id='data-5dcc4f50-eb00-4dc4-92b0-6fa2e7299e76' class='xr-var-data-in' type='checkbox'><label for='data-5dcc4f50-eb00-4dc4-92b0-6fa2e7299e76' title='Show/Hide data repr'><svg class='icon xr-icon-database'><use xlink:href='#icon-database'></use></svg></label><div class='xr-var-attrs'><dl class='xr-attrs'><dt><span>description :</span></dt><dd>&#x27;Argo&#x27;:1, &#x27;CTD&#x27;:2, &#x27;Gliders&#x27;:3, &#x27;MEOP&#x27;:4, &#x27;SOCCOM&#x27;:5</dd></dl></div><div class='xr-var-data'><pre>array([1, 1, 1, ..., 1, 1, 1])</pre></div></li><li class='xr-var-item'><div class='xr-var-name'><span>mld</span></div><div class='xr-var-dims'>(n_prof)</div><div class='xr-var-dtype'>float64</div><div class='xr-var-preview xr-preview'>-11.89 -33.65 ... -21.83 -9.901</div><input id='attrs-6805f09a-68e8-4bbc-82d3-b5a6fec54255' class='xr-var-attrs-in' type='checkbox' disabled><label for='attrs-6805f09a-68e8-4bbc-82d3-b5a6fec54255' title='Show/Hide attributes'><svg class='icon xr-icon-file-text2'><use xlink:href='#icon-file-text2'></use></svg></label><input id='data-c7a6a83a-34eb-4ca3-a1fb-2c09c1a9f4f7' class='xr-var-data-in' type='checkbox'><label for='data-c7a6a83a-34eb-4ca3-a1fb-2c09c1a9f4f7' title='Show/Hide data repr'><svg class='icon xr-icon-database'><use xlink:href='#icon-database'></use></svg></label><div class='xr-var-attrs'><dl class='xr-attrs'></dl></div><div class='xr-var-data'><pre>array([-11.88900231, -33.65438036,  -9.90675152, ..., -53.57417409,\n",
       "       -21.82547026,  -9.90117027])</pre></div></li><li class='xr-var-item'><div class='xr-var-name'><span>asal</span></div><div class='xr-var-dims'>(n_prof, pres)</div><div class='xr-var-dtype'>float32</div><div class='xr-var-preview xr-preview'>...</div><input id='attrs-e4a5b065-e2fc-48b1-97ff-868bc7c7730d' class='xr-var-attrs-in' type='checkbox' ><label for='attrs-e4a5b065-e2fc-48b1-97ff-868bc7c7730d' title='Show/Hide attributes'><svg class='icon xr-icon-file-text2'><use xlink:href='#icon-file-text2'></use></svg></label><input id='data-8e593826-8f2c-4a6d-8b19-4da34124c126' class='xr-var-data-in' type='checkbox'><label for='data-8e593826-8f2c-4a6d-8b19-4da34124c126' title='Show/Hide data repr'><svg class='icon xr-icon-database'><use xlink:href='#icon-database'></use></svg></label><div class='xr-var-attrs'><dl class='xr-attrs'><dt><span>long_name :</span></dt><dd>Absolute Salinity</dd><dt><span>standard_name :</span></dt><dd>ASAL</dd><dt><span>units :</span></dt><dd>g/kg</dd></dl></div><div class='xr-var-data'><pre>[116217416 values with dtype=float32]</pre></div></li><li class='xr-var-item'><div class='xr-var-name'><span>ctemp</span></div><div class='xr-var-dims'>(n_prof, pres)</div><div class='xr-var-dtype'>float32</div><div class='xr-var-preview xr-preview'>...</div><input id='attrs-a0313879-c7ae-44bc-8525-a0818521a23f' class='xr-var-attrs-in' type='checkbox' ><label for='attrs-a0313879-c7ae-44bc-8525-a0818521a23f' title='Show/Hide attributes'><svg class='icon xr-icon-file-text2'><use xlink:href='#icon-file-text2'></use></svg></label><input id='data-e613194d-ac51-4f28-ae10-7ad3276dd732' class='xr-var-data-in' type='checkbox'><label for='data-e613194d-ac51-4f28-ae10-7ad3276dd732' title='Show/Hide data repr'><svg class='icon xr-icon-database'><use xlink:href='#icon-database'></use></svg></label><div class='xr-var-attrs'><dl class='xr-attrs'><dt><span>long_name :</span></dt><dd>Conservative Temperature</dd><dt><span>standard_name :</span></dt><dd>CTEMP</dd><dt><span>units :</span></dt><dd>degrees_Celcius</dd></dl></div><div class='xr-var-data'><pre>[116217416 values with dtype=float32]</pre></div></li><li class='xr-var-item'><div class='xr-var-name'><span>rho</span></div><div class='xr-var-dims'>(n_prof, pres)</div><div class='xr-var-dtype'>float32</div><div class='xr-var-preview xr-preview'>...</div><input id='attrs-81e40ea1-1a5d-41b8-aa60-42ea53c67cb7' class='xr-var-attrs-in' type='checkbox' ><label for='attrs-81e40ea1-1a5d-41b8-aa60-42ea53c67cb7' title='Show/Hide attributes'><svg class='icon xr-icon-file-text2'><use xlink:href='#icon-file-text2'></use></svg></label><input id='data-6fdc5baf-87ff-477f-b71d-1e842181376a' class='xr-var-data-in' type='checkbox'><label for='data-6fdc5baf-87ff-477f-b71d-1e842181376a' title='Show/Hide data repr'><svg class='icon xr-icon-database'><use xlink:href='#icon-database'></use></svg></label><div class='xr-var-attrs'><dl class='xr-attrs'><dt><span>long_name :</span></dt><dd>In-situ Density</dd><dt><span>standard_name :</span></dt><dd>rho</dd><dt><span>units :</span></dt><dd>kg/m^-3</dd></dl></div><div class='xr-var-data'><pre>[116217416 values with dtype=float32]</pre></div></li><li class='xr-var-item'><div class='xr-var-name'><span>mlp</span></div><div class='xr-var-dims'>(n_prof)</div><div class='xr-var-dtype'>float64</div><div class='xr-var-preview xr-preview'>12.0 34.0 10.0 ... 54.0 22.0 10.0</div><input id='attrs-a910a1e6-0fb4-4680-8000-62907e8f6737' class='xr-var-attrs-in' type='checkbox' disabled><label for='attrs-a910a1e6-0fb4-4680-8000-62907e8f6737' title='Show/Hide attributes'><svg class='icon xr-icon-file-text2'><use xlink:href='#icon-file-text2'></use></svg></label><input id='data-f3b115fe-598f-4d09-a3b3-f08b5202cb8a' class='xr-var-data-in' type='checkbox'><label for='data-f3b115fe-598f-4d09-a3b3-f08b5202cb8a' title='Show/Hide data repr'><svg class='icon xr-icon-database'><use xlink:href='#icon-database'></use></svg></label><div class='xr-var-attrs'><dl class='xr-attrs'></dl></div><div class='xr-var-data'><pre>array([12., 34., 10., ..., 54., 22., 10.])</pre></div></li><li class='xr-var-item'><div class='xr-var-name'><span>sig</span></div><div class='xr-var-dims'>(n_prof, pres)</div><div class='xr-var-dtype'>float64</div><div class='xr-var-preview xr-preview'>...</div><input id='attrs-5b1893c1-872b-42c0-85dd-993b1055b0db' class='xr-var-attrs-in' type='checkbox' ><label for='attrs-5b1893c1-872b-42c0-85dd-993b1055b0db' title='Show/Hide attributes'><svg class='icon xr-icon-file-text2'><use xlink:href='#icon-file-text2'></use></svg></label><input id='data-7860e2f2-2fd3-41ce-be4d-514412d24d9b' class='xr-var-data-in' type='checkbox'><label for='data-7860e2f2-2fd3-41ce-be4d-514412d24d9b' title='Show/Hide data repr'><svg class='icon xr-icon-database'><use xlink:href='#icon-database'></use></svg></label><div class='xr-var-attrs'><dl class='xr-attrs'><dt><span>long_name :</span></dt><dd>Potential Density</dd><dt><span>standard_name :</span></dt><dd>sigma</dd><dt><span>units :</span></dt><dd>kg/m^-3</dd></dl></div><div class='xr-var-data'><pre>[116217416 values with dtype=float64]</pre></div></li><li class='xr-var-item'><div class='xr-var-name'><span>n2</span></div><div class='xr-var-dims'>(n_prof, pres)</div><div class='xr-var-dtype'>float64</div><div class='xr-var-preview xr-preview'>...</div><input id='attrs-32c7e28d-05ef-46c6-a05b-5912c94b1658' class='xr-var-attrs-in' type='checkbox' disabled><label for='attrs-32c7e28d-05ef-46c6-a05b-5912c94b1658' title='Show/Hide attributes'><svg class='icon xr-icon-file-text2'><use xlink:href='#icon-file-text2'></use></svg></label><input id='data-9eb86f9f-a2da-40f2-b47c-e7191e87926b' class='xr-var-data-in' type='checkbox'><label for='data-9eb86f9f-a2da-40f2-b47c-e7191e87926b' title='Show/Hide data repr'><svg class='icon xr-icon-database'><use xlink:href='#icon-database'></use></svg></label><div class='xr-var-attrs'><dl class='xr-attrs'></dl></div><div class='xr-var-data'><pre>[116217416 values with dtype=float64]</pre></div></li><li class='xr-var-item'><div class='xr-var-name'><span>up_bd</span></div><div class='xr-var-dims'>(n_prof)</div><div class='xr-var-dtype'>float64</div><div class='xr-var-preview xr-preview'>-11.89 -33.65 -9.907 ... nan -9.901</div><input id='attrs-15cd834c-de64-4a33-9f9b-052bbf543ca6' class='xr-var-attrs-in' type='checkbox' disabled><label for='attrs-15cd834c-de64-4a33-9f9b-052bbf543ca6' title='Show/Hide attributes'><svg class='icon xr-icon-file-text2'><use xlink:href='#icon-file-text2'></use></svg></label><input id='data-a9928008-9d77-4be5-8f71-54c6119c2473' class='xr-var-data-in' type='checkbox'><label for='data-a9928008-9d77-4be5-8f71-54c6119c2473' title='Show/Hide data repr'><svg class='icon xr-icon-database'><use xlink:href='#icon-database'></use></svg></label><div class='xr-var-attrs'><dl class='xr-attrs'></dl></div><div class='xr-var-data'><pre>array([-11.88900231, -33.65438036,  -9.90675152, ...,          nan,\n",
       "                nan,  -9.90117027])</pre></div></li><li class='xr-var-item'><div class='xr-var-name'><span>ww_cp</span></div><div class='xr-var-dims'>(n_prof)</div><div class='xr-var-dtype'>float64</div><div class='xr-var-preview xr-preview'>...</div><input id='attrs-dd97cf16-df16-4e0e-bb9c-3c0fa94f3289' class='xr-var-attrs-in' type='checkbox' disabled><label for='attrs-dd97cf16-df16-4e0e-bb9c-3c0fa94f3289' title='Show/Hide attributes'><svg class='icon xr-icon-file-text2'><use xlink:href='#icon-file-text2'></use></svg></label><input id='data-4e3a2081-f4c9-4015-b464-ea49c4598b72' class='xr-var-data-in' type='checkbox'><label for='data-4e3a2081-f4c9-4015-b464-ea49c4598b72' title='Show/Hide data repr'><svg class='icon xr-icon-database'><use xlink:href='#icon-database'></use></svg></label><div class='xr-var-attrs'><dl class='xr-attrs'></dl></div><div class='xr-var-data'><pre>[592946 values with dtype=float64]</pre></div></li><li class='xr-var-item'><div class='xr-var-name'><span>ww_ct</span></div><div class='xr-var-dims'>(n_prof)</div><div class='xr-var-dtype'>float64</div><div class='xr-var-preview xr-preview'>...</div><input id='attrs-d9c9249a-bff4-4e58-819a-f08e6942d611' class='xr-var-attrs-in' type='checkbox' disabled><label for='attrs-d9c9249a-bff4-4e58-819a-f08e6942d611' title='Show/Hide attributes'><svg class='icon xr-icon-file-text2'><use xlink:href='#icon-file-text2'></use></svg></label><input id='data-ca9dfc33-bba5-4083-8fa4-01e98d99f3eb' class='xr-var-data-in' type='checkbox'><label for='data-ca9dfc33-bba5-4083-8fa4-01e98d99f3eb' title='Show/Hide data repr'><svg class='icon xr-icon-database'><use xlink:href='#icon-database'></use></svg></label><div class='xr-var-attrs'><dl class='xr-attrs'></dl></div><div class='xr-var-data'><pre>[592946 values with dtype=float64]</pre></div></li><li class='xr-var-item'><div class='xr-var-name'><span>ww_sa</span></div><div class='xr-var-dims'>(n_prof)</div><div class='xr-var-dtype'>float64</div><div class='xr-var-preview xr-preview'>...</div><input id='attrs-398cfcfc-f335-4de5-8cef-098f27f0b8be' class='xr-var-attrs-in' type='checkbox' disabled><label for='attrs-398cfcfc-f335-4de5-8cef-098f27f0b8be' title='Show/Hide attributes'><svg class='icon xr-icon-file-text2'><use xlink:href='#icon-file-text2'></use></svg></label><input id='data-40f14104-80f3-4cfe-96c7-077b00249781' class='xr-var-data-in' type='checkbox'><label for='data-40f14104-80f3-4cfe-96c7-077b00249781' title='Show/Hide data repr'><svg class='icon xr-icon-database'><use xlink:href='#icon-database'></use></svg></label><div class='xr-var-attrs'><dl class='xr-attrs'></dl></div><div class='xr-var-data'><pre>[592946 values with dtype=float64]</pre></div></li><li class='xr-var-item'><div class='xr-var-name'><span>sig_c</span></div><div class='xr-var-dims'>(n_prof)</div><div class='xr-var-dtype'>float64</div><div class='xr-var-preview xr-preview'>...</div><input id='attrs-aa0c676b-df96-4e37-b4d8-e9909593c340' class='xr-var-attrs-in' type='checkbox' disabled><label for='attrs-aa0c676b-df96-4e37-b4d8-e9909593c340' title='Show/Hide attributes'><svg class='icon xr-icon-file-text2'><use xlink:href='#icon-file-text2'></use></svg></label><input id='data-c76cb8eb-37ff-44fc-822f-67bc2621c92b' class='xr-var-data-in' type='checkbox'><label for='data-c76cb8eb-37ff-44fc-822f-67bc2621c92b' title='Show/Hide data repr'><svg class='icon xr-icon-database'><use xlink:href='#icon-database'></use></svg></label><div class='xr-var-attrs'><dl class='xr-attrs'></dl></div><div class='xr-var-data'><pre>[592946 values with dtype=float64]</pre></div></li><li class='xr-var-item'><div class='xr-var-name'><span>lw_bd</span></div><div class='xr-var-dims'>(n_prof)</div><div class='xr-var-dtype'>float64</div><div class='xr-var-preview xr-preview'>-116.9 -162.3 -122.8 ... nan -132.6</div><input id='attrs-45e05201-fe3c-4129-8217-66d661498f2c' class='xr-var-attrs-in' type='checkbox' disabled><label for='attrs-45e05201-fe3c-4129-8217-66d661498f2c' title='Show/Hide attributes'><svg class='icon xr-icon-file-text2'><use xlink:href='#icon-file-text2'></use></svg></label><input id='data-1ae91002-c50b-4364-9782-2308030d204f' class='xr-var-data-in' type='checkbox'><label for='data-1ae91002-c50b-4364-9782-2308030d204f' title='Show/Hide data repr'><svg class='icon xr-icon-database'><use xlink:href='#icon-database'></use></svg></label><div class='xr-var-attrs'><dl class='xr-attrs'></dl></div><div class='xr-var-data'><pre>array([-116.87847061, -162.28175182, -122.80975953, ...,           nan,\n",
       "                 nan, -132.63579215])</pre></div></li><li class='xr-var-item'><div class='xr-var-name'><span>ww_type</span></div><div class='xr-var-dims'>(n_prof)</div><div class='xr-var-dtype'>float64</div><div class='xr-var-preview xr-preview'>2.0 2.0 2.0 nan ... 2.0 nan nan 2.0</div><input id='attrs-3e683729-ae85-4fc0-9d23-5c89bd377a5e' class='xr-var-attrs-in' type='checkbox' ><label for='attrs-3e683729-ae85-4fc0-9d23-5c89bd377a5e' title='Show/Hide attributes'><svg class='icon xr-icon-file-text2'><use xlink:href='#icon-file-text2'></use></svg></label><input id='data-0e69d058-11e2-4027-a4c9-68cd6bfced0a' class='xr-var-data-in' type='checkbox'><label for='data-0e69d058-11e2-4027-a4c9-68cd6bfced0a' title='Show/Hide data repr'><svg class='icon xr-icon-database'><use xlink:href='#icon-database'></use></svg></label><div class='xr-var-attrs'><dl class='xr-attrs'><dt><span>description :</span></dt><dd>classification of WW: surface (ML) or subsurface, 1 and 2 respectively</dd></dl></div><div class='xr-var-data'><pre>array([ 2.,  2.,  2., ..., nan, nan,  2.])</pre></div></li><li class='xr-var-item'><div class='xr-var-name'><span>thcc</span></div><div class='xr-var-dims'>(n_prof)</div><div class='xr-var-dtype'>float64</div><div class='xr-var-preview xr-preview'>-105.0 -128.6 -112.9 ... nan -122.7</div><input id='attrs-45f5b102-5e32-4e56-ac99-24c72341ef95' class='xr-var-attrs-in' type='checkbox' disabled><label for='attrs-45f5b102-5e32-4e56-ac99-24c72341ef95' title='Show/Hide attributes'><svg class='icon xr-icon-file-text2'><use xlink:href='#icon-file-text2'></use></svg></label><input id='data-bf057bbb-f556-403e-a7d7-0e42b02ac52f' class='xr-var-data-in' type='checkbox'><label for='data-bf057bbb-f556-403e-a7d7-0e42b02ac52f' title='Show/Hide data repr'><svg class='icon xr-icon-database'><use xlink:href='#icon-database'></use></svg></label><div class='xr-var-attrs'><dl class='xr-attrs'></dl></div><div class='xr-var-data'><pre>array([-104.9894683 , -128.62737145, -112.90300801, ...,           nan,\n",
       "                 nan, -122.73462188])</pre></div></li><li class='xr-var-item'><div class='xr-var-name'><span>ww_n2</span></div><div class='xr-var-dims'>(n_prof)</div><div class='xr-var-dtype'>float64</div><div class='xr-var-preview xr-preview'>...</div><input id='attrs-591aa411-6368-41bd-9bbd-d576f3c96b13' class='xr-var-attrs-in' type='checkbox' disabled><label for='attrs-591aa411-6368-41bd-9bbd-d576f3c96b13' title='Show/Hide attributes'><svg class='icon xr-icon-file-text2'><use xlink:href='#icon-file-text2'></use></svg></label><input id='data-7a80fb32-f959-4616-ae9f-b24858685b3c' class='xr-var-data-in' type='checkbox'><label for='data-7a80fb32-f959-4616-ae9f-b24858685b3c' title='Show/Hide data repr'><svg class='icon xr-icon-database'><use xlink:href='#icon-database'></use></svg></label><div class='xr-var-attrs'><dl class='xr-attrs'></dl></div><div class='xr-var-data'><pre>[592946 values with dtype=float64]</pre></div></li><li class='xr-var-item'><div class='xr-var-name'><span>ww_msk</span></div><div class='xr-var-dims'>(n_prof, pres)</div><div class='xr-var-dtype'>float64</div><div class='xr-var-preview xr-preview'>...</div><input id='attrs-0a250673-4caf-46b7-a0ae-454f0f6170f8' class='xr-var-attrs-in' type='checkbox' disabled><label for='attrs-0a250673-4caf-46b7-a0ae-454f0f6170f8' title='Show/Hide attributes'><svg class='icon xr-icon-file-text2'><use xlink:href='#icon-file-text2'></use></svg></label><input id='data-e8ea782e-af21-486e-9127-6c64095e75dd' class='xr-var-data-in' type='checkbox'><label for='data-e8ea782e-af21-486e-9127-6c64095e75dd' title='Show/Hide data repr'><svg class='icon xr-icon-database'><use xlink:href='#icon-database'></use></svg></label><div class='xr-var-attrs'><dl class='xr-attrs'></dl></div><div class='xr-var-data'><pre>[116217416 values with dtype=float64]</pre></div></li><li class='xr-var-item'><div class='xr-var-name'><span>ww_cd</span></div><div class='xr-var-dims'>(n_prof)</div><div class='xr-var-dtype'>float64</div><div class='xr-var-preview xr-preview'>-89.15 -89.07 -71.32 ... nan -43.56</div><input id='attrs-7ce3ca10-5e20-452a-a3e4-3205330b9b5f' class='xr-var-attrs-in' type='checkbox' disabled><label for='attrs-7ce3ca10-5e20-452a-a3e4-3205330b9b5f' title='Show/Hide attributes'><svg class='icon xr-icon-file-text2'><use xlink:href='#icon-file-text2'></use></svg></label><input id='data-4d248e9b-eeb4-4577-b1ed-c3f28a4a576d' class='xr-var-data-in' type='checkbox'><label for='data-4d248e9b-eeb4-4577-b1ed-c3f28a4a576d' title='Show/Hide data repr'><svg class='icon xr-icon-database'><use xlink:href='#icon-database'></use></svg></label><div class='xr-var-attrs'><dl class='xr-attrs'></dl></div><div class='xr-var-data'><pre>array([-89.15064601, -89.0730255 , -71.31788123, ...,          nan,\n",
       "                nan, -43.56155448])</pre></div></li></ul></div></li><li class='xr-section-item'><input id='section-b637dfc0-e9d4-4e92-8162-61942ccf74b5' class='xr-section-summary-in' type='checkbox'  ><label for='section-b637dfc0-e9d4-4e92-8162-61942ccf74b5' class='xr-section-summary' >Indexes: <span>(2)</span></label><div class='xr-section-inline-details'></div><div class='xr-section-details'><ul class='xr-var-list'><li class='xr-var-item'><div class='xr-index-name'><div>n_prof</div></div><div class='xr-index-preview'>PandasIndex</div><div></div><input id='index-55ea8fd2-f841-424a-ae91-ddbb4a42466b' class='xr-index-data-in' type='checkbox'/><label for='index-55ea8fd2-f841-424a-ae91-ddbb4a42466b' title='Show/Hide index repr'><svg class='icon xr-icon-database'><use xlink:href='#icon-database'></use></svg></label><div class='xr-index-data'><pre>PandasIndex(Index([     0,      1,      2,      3,      4,      5,      6,      7,      8,\n",
       "            9,\n",
       "       ...\n",
       "       620283, 620284, 620285, 620286, 620287, 620288, 620289, 620290, 620291,\n",
       "       620292],\n",
       "      dtype=&#x27;int64&#x27;, name=&#x27;n_prof&#x27;, length=592946))</pre></div></li><li class='xr-var-item'><div class='xr-index-name'><div>pres</div></div><div class='xr-index-preview'>PandasIndex</div><div></div><input id='index-ab6a100b-ba94-4bbc-90a5-80fb7e64ea2b' class='xr-index-data-in' type='checkbox'/><label for='index-ab6a100b-ba94-4bbc-90a5-80fb7e64ea2b' title='Show/Hide index repr'><svg class='icon xr-icon-database'><use xlink:href='#icon-database'></use></svg></label><div class='xr-index-data'><pre>PandasIndex(Index([ 10,  12,  14,  16,  18,  20,  22,  24,  26,  28,\n",
       "       ...\n",
       "       382, 384, 386, 388, 390, 392, 394, 396, 398, 400],\n",
       "      dtype=&#x27;int64&#x27;, name=&#x27;pres&#x27;, length=196))</pre></div></li></ul></div></li><li class='xr-section-item'><input id='section-2e8bb8f8-dcf4-440f-8dd5-29cfd0a657e9' class='xr-section-summary-in' type='checkbox'  checked><label for='section-2e8bb8f8-dcf4-440f-8dd5-29cfd0a657e9' class='xr-section-summary' >Attributes: <span>(1)</span></label><div class='xr-section-inline-details'></div><div class='xr-section-details'><dl class='xr-attrs'><dt><span>description :</span></dt><dd>Interpolated dataset from 2004 to 2021. Contains MLD from pre-interpolated data. Contains good QC and Wilson et al (2019) QC. Smoothed temp and psal using Gauss smoothing with stand dev=2. Gsw funcs and WW subsequently calculated. Further QC post calculation: NaN any WW vars profiles with a lower boundary deeper than 300dbar; drop any profiles with fewer than 10 datapoints.</dd></dl></div></li></ul></div></div>"
      ],
      "text/plain": [
       "<xarray.Dataset>\n",
       "Dimensions:  (n_prof: 592946, pres: 196)\n",
       "Coordinates:\n",
       "  * n_prof   (n_prof) int64 0 1 2 3 4 5 ... 620288 620289 620290 620291 620292\n",
       "  * pres     (pres) int64 10 12 14 16 18 20 22 ... 388 390 392 394 396 398 400\n",
       "    lon      (n_prof) float64 ...\n",
       "    lat      (n_prof) float64 -57.46 -69.32 -58.43 ... -41.05 -42.42 -65.83\n",
       "    time     (n_prof) datetime64[ns] 2004-01-01T10:01:28.999999744 ... 2021-1...\n",
       "Data variables: (12/21)\n",
       "    temp     (n_prof, pres) float64 ...\n",
       "    psal     (n_prof, pres) float64 ...\n",
       "    dsource  (n_prof) int64 1 1 1 1 1 1 1 1 1 1 1 1 ... 1 1 1 1 1 1 1 1 1 1 1 1\n",
       "    mld      (n_prof) float64 -11.89 -33.65 -9.907 ... -53.57 -21.83 -9.901\n",
       "    asal     (n_prof, pres) float32 ...\n",
       "    ctemp    (n_prof, pres) float32 ...\n",
       "    ...       ...\n",
       "    lw_bd    (n_prof) float64 -116.9 -162.3 -122.8 nan ... -95.06 nan nan -132.6\n",
       "    ww_type  (n_prof) float64 2.0 2.0 2.0 nan 2.0 2.0 ... nan 2.0 nan nan 2.0\n",
       "    thcc     (n_prof) float64 -105.0 -128.6 -112.9 nan ... -67.33 nan nan -122.7\n",
       "    ww_n2    (n_prof) float64 ...\n",
       "    ww_msk   (n_prof, pres) float64 ...\n",
       "    ww_cd    (n_prof) float64 -89.15 -89.07 -71.32 nan ... -75.26 nan nan -43.56\n",
       "Attributes:\n",
       "    description:  Interpolated dataset from 2004 to 2021. Contains MLD from p..."
      ]
     },
     "execution_count": 16,
     "metadata": {},
     "output_type": "execute_result"
    }
   ],
   "source": [
    "ds"
   ]
  },
  {
   "cell_type": "code",
   "execution_count": 12,
   "id": "d553870c-c982-4183-93b0-3c32b2ec068c",
   "metadata": {},
   "outputs": [
    {
     "data": {
      "application/vnd.jupyter.widget-view+json": {
       "model_id": "66eeb1fa9c274f59a396f5e65a41d773",
       "version_major": 2,
       "version_minor": 0
      },
      "text/plain": [
       "  0%|          | 0/4 [00:00<?, ?it/s]"
      ]
     },
     "metadata": {},
     "output_type": "display_data"
    }
   ],
   "source": [
    "ww_msk = median_gridding_szn(ds_ww['ww_msk'])"
   ]
  },
  {
   "cell_type": "code",
   "execution_count": 13,
   "id": "583fba27-a03b-4eca-9584-e201f8acfc07",
   "metadata": {},
   "outputs": [],
   "source": [
    "# create dataset\n",
    "x    = 1 # grid size\n",
    "time = np.arange(0,4,1) # JFM,AMJ,JAS,OND: summer,...,spring\n",
    "p    = ds.pres.data\n",
    "lat  = np.arange(-79,-40+x,x)\n",
    "lon  = np.arange(-180,180,x)\n",
    "\n",
    "ds_grid = xr.Dataset(\n",
    "            data_vars = dict(\n",
    "                            ctemp   = (['time','lon','lat','pres'], dvars_4[1]),\n",
    "                            asal    = (['time','lon','lat','pres'], dvars_4[0]),\n",
    "                            rho     = (['time','lon','lat','pres'], dvars_4[2]),\n",
    "                            sig     = (['time','lon','lat','pres'], dvars_4[3]),\n",
    "                            n2      = (['time','lon','lat','pres'], dvars_4[4]),\n",
    "                            mld     = (['time', 'lon','lat'], dvars_3[0]),\n",
    "                            up_bd   = (['time', 'lon','lat'], dvars_3[1]),\n",
    "                            lw_bd   = (['time', 'lon','lat'], dvars_3[5]),\n",
    "                            ww_cd   = (['time', 'lon','lat'], dvars_3[2]),\n",
    "                            ww_ct   = (['time', 'lon','lat'], dvars_3[3]),\n",
    "                            ww_sa   = (['time', 'lon','lat'], dvars_3[4]),\n",
    "                            thcc    = (['time', 'lon','lat'], dvars_3[6]),\n",
    "                            ww_n2   = (['time', 'lon','lat'], dvars_3[7]),\n",
    "                            sig_c   = (['time', 'lon','lat'], dvars_3[8]),\n",
    "                            ww_type = (['time', 'lon','lat'], ww_type),\n",
    "                            dsource = (['time', 'lon','lat'], dsource),\n",
    "                            n_prof  = (['time', 'lon','lat'], n_prof),\n",
    "                            ww_prof = (['time', 'lon','lat'], ww_prof),\n",
    "                            ww_msk  = (['time','lon','lat','pres'], ww_msk),\n",
    "                \n",
    "                            ),\n",
    "            coords   = dict(\n",
    "                            time    = (['time'], time),\n",
    "                            lon     = (['lon'],  lon),\n",
    "                            lat     = (['lat'],  lat),\n",
    "                            pres    = (['pres'], p)\n",
    "                            ),\n",
    "            attrs    = dict(description=str(\n",
    "    f\"1 degree grid of median climatology ({clim}) along 2dbar pressure interpolated and quality controlled Argo, MEOP, SOCCOM, CTDs, and Gliders data from 2004 to 2021. Contains good QC and Wilson et al (2019) QC. Smoothed temp and psal using Gauss smoothing with stand dev=2. Gsw funcs and WW subsequently calculated. Further QC post calculation: NaN any WW vars profiles with a lower boundary deeper than 300dbar; drop any profiles with fewer than 10 datapoints. Removed vertical profiles by cross referencing temperature profile with mixed layer temperature. If there is not a significant change from the mean ML temperature, we remove the profile (a change of 0.25°C or more for at least 5% of the profile).\"))\n",
    "            )\n",
    "\n",
    "# sort some stuff\n",
    "ds_grid.n_prof.attrs['description']  = 'total number of profiles across the time span for that month.'\n",
    "ds_grid.ww_prof.attrs['description'] = 'total number of profiles across the time span for that month containing Winter Water.'\n",
    "ds_grid.ww_type.attrs['description'] = 'mode of ww classification per grid cell. key: 1:ML WW, 2:Subsurface WW'\n",
    "ds_grid.dsource.attrs['description'] = \"mode of data source. key: 'Argo':1, 'CTD':2, 'Gliders':3, 'MEOP':4, 'SOCCOM':5\"\n",
    "ds_grid.ww_msk.attrs['description']  = 'masking where there exists WW in the water column per grid cell (median). 1 => there exists WW.'\n",
    "\n",
    "# reorder seasons\n",
    "ds_grid['time'] = [2,3,0,1]\n",
    "ds_grid = ds_grid.sortby('time')\n",
    "ds_grid.time.attrs['description'] = '0:Winter, 1:Spring, 2:Summer, 3:Autumn'"
   ]
  },
  {
   "cell_type": "code",
   "execution_count": 14,
   "id": "fc078e50-1df0-4ddc-905c-c7a300f8d11c",
   "metadata": {},
   "outputs": [],
   "source": [
    "# save that mf dataset\n",
    "ds_grid.to_netcdf('/home/theospira/notebooks/projects/WW_climatology/data/hydrographic_profiles/SO_1yr_clim_seasonal.nc')"
   ]
  },
  {
   "cell_type": "markdown",
   "id": "75108604-f486-4513-8848-9f8229ebb600",
   "metadata": {
    "tags": []
   },
   "source": [
    "# seasonal gridding of statistic - std?"
   ]
  },
  {
   "cell_type": "code",
   "execution_count": null,
   "id": "a4d21c18-b40d-45af-86d0-b501ff92d969",
   "metadata": {},
   "outputs": [],
   "source": [
    "clim = 'season'\n",
    "\n",
    "dvars_4 = [] # 4D vars\n",
    "for i in tqdm(['asal', 'ctemp', 'rho']):\n",
    "    dvars_4 += grid_var_4d(ds[i],clim),\n",
    "\n",
    "ww_vars = ['mlp','up_bd','ww_cp','ww_ct','ww_sa','lw_bd','thcc','ww_n2']\n",
    "\n",
    "dvars_3 = [] # 3D vars\n",
    "for i in tqdm(ww_vars):\n",
    "    dvars_3 += grid_var_3d(ds_ww[i],clim),\n",
    "ww_type = grid_var_3d_mode(ds_ww['ww_type'],clim,)\n",
    "n_prof  = grid_var_3d_sum(ds,'n_prof',clim,)\n",
    "ww_prof = grid_var_3d_sum(ds_ww,'n_prof',clim,)"
   ]
  },
  {
   "cell_type": "code",
   "execution_count": null,
   "id": "0b9ccb1d-4483-49c5-93a6-5103b0db6f7b",
   "metadata": {},
   "outputs": [],
   "source": [
    "x    = 1 \n",
    "time = np.arange(0,4,1) # JFM,AMJ,JAS,OND: summer,...,spring\n",
    "p    = ds.pres.data\n",
    "lat  = np.arange(-79,-40+x,x)\n",
    "lon  = np.arange(-180,180,x)\n",
    "\n",
    "ds_grid = xr.Dataset(\n",
    "            data_vars = dict(\n",
    "                            ctemp   = (['time','pres','lon','lat'], dvars_4[1].data),\n",
    "                            asal    = (['time','pres','lon','lat'], dvars_4[0].data),\n",
    "                            rho     = (['time','pres','lon','lat'], dvars_4[2].data),\n",
    "                            mlp     = (['time', 'lon','lat'], dvars_3[0].data),\n",
    "                            up_bd   = (['time', 'lon','lat'], dvars_3[1].data),\n",
    "                            lw_bd   = (['time', 'lon','lat'], dvars_3[5].data),\n",
    "                            ww_cp   = (['time', 'lon','lat'], dvars_3[2].data),\n",
    "                            ww_ct   = (['time', 'lon','lat'], dvars_3[3].data),\n",
    "                            ww_sa   = (['time', 'lon','lat'], dvars_3[4].data),\n",
    "                            thcc    = (['time', 'lon','lat'], dvars_3[6].data),\n",
    "                            ww_n2   = (['time', 'lon','lat'], dvars_3[7].data),\n",
    "                            ww_type = (['time', 'lon','lat'], ww_type.data),\n",
    "                            n_prof  = (['time', 'lon','lat'], n_prof.data),\n",
    "                            ww_prof = (['time', 'lon','lat'], ww_prof.data),                \n",
    "                            ),\n",
    "            coords   = dict(\n",
    "                            time    = (['time'], time),\n",
    "                            lon     = (['lon'], lon),\n",
    "                            lat     = (['lat'], lat),\n",
    "                            pres    = (['pres'], p)\n",
    "                            ),\n",
    "            attrs    = dict(description=str(\n",
    "    f\"1 degree grid of median climatology ({clim}) along 2dbar pressure interpolated and quality controlled Argo, MEOP, SOCCOM, CTDs, and Gliders data from 2004 to 2021. Contains good QC and Wilson et al (2019) QC. Smoothed temp and psal using Gauss smoothing with stand dev=2. Gsw funcs and WW subsequently calculated. Further QC post calculation: NaN any WW vars profiles with a lower boundary deeper than 300dbar; drop any profiles with fewer than 10 datapoints. Removed vertical profiles by cross referencing temperature profile with mixed layer temperature. If there is not a significant change from the mean ML temperature, we remove the profile (a change of 0.25°C or more for at least 5% of the profile).\"))\n",
    "            )\n",
    "\n",
    "ds_grid.n_prof.attrs['description']  = 'total number of profiles across the time span for that month.'\n",
    "ds_grid.ww_prof.attrs['description'] = 'total number of profiles across the time span for that month containing Winter Water.'\n",
    "ds_grid.ww_type.attrs['description'] = 'mode of ww type per grid cell'                            "
   ]
  },
  {
   "cell_type": "code",
   "execution_count": null,
   "id": "5da8fd84-6291-4fc8-81e2-54bcc94e7ddb",
   "metadata": {},
   "outputs": [],
   "source": [
    "ds_grid['time'] = [2,3,0,1]\n",
    "ds_grid = ds_grid.sortby('time')\n",
    "ds_grid.time.attrs['description'] = '0:Winter, 1:Spring, 2:Summer, 3:Autumn'"
   ]
  },
  {
   "cell_type": "code",
   "execution_count": 23,
   "id": "f5342678-77ca-43d2-81bb-894c2273dab4",
   "metadata": {},
   "outputs": [],
   "source": [
    "ds_grid.to_netcdf('/home/theospira/notebooks/projects/WW_climatology/data/hydrographic_profiles/SO_1yr_clim_seasonal.nc')"
   ]
  },
  {
   "cell_type": "markdown",
   "id": "edf273ab-e09a-42e4-bd0f-ad592e59ba73",
   "metadata": {
    "jp-MarkdownHeadingCollapsed": true,
    "tags": []
   },
   "source": [
    "# annual gridding by mode"
   ]
  },
  {
   "cell_type": "code",
   "execution_count": 5,
   "id": "a4ec630b-8b62-49cf-a499-913cd2e31b70",
   "metadata": {},
   "outputs": [],
   "source": [
    "ds = xr.open_dataset('/home/theospira/notebooks/projects/WW_climatology/data/hydrographic_profiles/ww_gauss_smoothed_ds.nc')\n",
    "\n",
    "for i,d in enumerate(np.unique(ds.dsource)):\n",
    "    idx = np.where(ds.dsource == d)[0]\n",
    "    ds['dsource'][idx] = i+1\n",
    "\n",
    "ds.dsource.attrs['description'] = \"'Argo':1, 'CTD':2, 'Gliders':3, 'MEOP':4, 'SOCCOM':5\"\n",
    "ds['dsource'] = ds['dsource'].astype(int)"
   ]
  },
  {
   "cell_type": "code",
   "execution_count": 10,
   "id": "a3f89665-77b4-4098-bc36-af9cbcdcbcaa",
   "metadata": {},
   "outputs": [],
   "source": [
    "from scipy.stats import mode\n",
    "\n",
    "def mode_gridding_yr(dsvar):\n",
    "    \n",
    "    if 'pres' in dsvar.dims:\n",
    "        arr = np.ndarray([360,40,ds.pres.size])*np.nan\n",
    "    else:\n",
    "        arr = np.ndarray([360,40])*np.nan\n",
    "    \n",
    "    # define lon min and max resp\n",
    "    gs = 1\n",
    "    lon_min = -180\n",
    "    lon_max = 180\n",
    "    lon = np.arange(lon_min,lon_max+gs,gs)\n",
    "    lon_labels = range(0,lon_max-lon_min,gs)\n",
    "    \n",
    "    lat_min = -80\n",
    "    lat_max = -40\n",
    "    lat = np.arange(lat_min,lat_max+gs,gs)\n",
    "    lat_labels = range(0,lat_max-lat_min,gs)\n",
    "    \n",
    "    \n",
    "    var1 = dsvar.groupby_bins('lon',lon,labels=lon_labels,restore_coord_dims=True)\n",
    "    \n",
    "    # now group into lat bins for each lon group:\n",
    "    for ln,gr_ln in var1:\n",
    "        var2 = gr_ln.groupby_bins('lat',lat,labels=lat_labels,restore_coord_dims=True)\n",
    "        \n",
    "        # now take the mode!\n",
    "        for lt,gr_lt in var2:\n",
    "            arr[ln,lt] = mode(gr_lt,nan_policy='omit')[0]\n",
    "        \n",
    "    return arr"
   ]
  },
  {
   "cell_type": "code",
   "execution_count": 16,
   "id": "d79ed2f7-2771-485a-9c9a-bf115e92dd1f",
   "metadata": {},
   "outputs": [],
   "source": [
    "arr = mode_gridding_yr(ds.ww_type)\n",
    "dsr = mode_gridding_yr(ds.dsource)"
   ]
  },
  {
   "cell_type": "code",
   "execution_count": 17,
   "id": "de00f1da-43ae-4094-afee-e98eb6721aa2",
   "metadata": {},
   "outputs": [],
   "source": [
    "x    = 1 \n",
    "lat  = np.arange(-79,-40+x,x)\n",
    "lon  = np.arange(-180,180,x)\n",
    "\n",
    "ds_grid = xr.Dataset(\n",
    "            data_vars = dict(\n",
    "                            dsource = (['lon','lat'], dsr),\n",
    "                            ww_type = (['lon','lat'], arr),\n",
    "                            ),\n",
    "            coords   = dict(\n",
    "                            lon     = (['lon'], lon),\n",
    "                            lat     = (['lat'], lat),\n",
    "                            ),\n",
    "            attrs    = dict(description=str(\n",
    "    f\"annual mode.\"))\n",
    "            )\n",
    "\n",
    "ds_grid.dsource.attrs['description'] = \"'Argo':1, 'CTD':2, 'Gliders':3, 'MEOP':4, 'SOCCOM':5\"\n",
    "ds_grid.ww_type.attrs['description'] = \"1:ML WW, 2:Subsurface WW\""
   ]
  },
  {
   "cell_type": "code",
   "execution_count": 23,
   "id": "7a279ac6-3cf1-4057-a6be-ce73a6f13a66",
   "metadata": {},
   "outputs": [
    {
     "data": {
      "text/plain": [
       "<matplotlib.collections.QuadMesh at 0x7f7286163950>"
      ]
     },
     "execution_count": 23,
     "metadata": {},
     "output_type": "execute_result"
    },
    {
     "data": {
      "image/png": "[encoded data removed]",
      "text/plain": [
       "<Figure size 1400x400 with 2 Axes>"
      ]
     },
     "metadata": {},
     "output_type": "display_data"
    }
   ],
   "source": [
    "cm = mpl.colors.LinearSegmentedColormap.from_list(\"\", ['#377eb8','#ff7f00']) # blue and orange, resp\n",
    "\n",
    "\n",
    "ds_grid.ww_type.plot(x='lon',cmap=cm,vmin=0,vmax=3,levels=3,add_colorbar=True, figsize=(14,4))"
   ]
  },
  {
   "cell_type": "code",
   "execution_count": 36,
   "id": "a51813ee-f0b8-4954-b4a5-5f1761f8ce41",
   "metadata": {},
   "outputs": [
    {
     "data": {
      "image/png": "[encoded data removed]",
      "text/plain": [
       "<Figure size 1400x500 with 2 Axes>"
      ]
     },
     "metadata": {},
     "output_type": "display_data"
    }
   ],
   "source": [
    "ax = ds_grid.dsource.plot(x='lon',cmap='Spectral',vmin=1,vmax=6,levels=6,add_colorbar=True, figsize=(14,5))\n",
    "cb = ax.colorbar\n",
    "cb.set_ticks(np.arange(1.5,6,1),)\n",
    "cb.set_ticklabels(['Argo', 'CTD', 'Gliders', 'MEOP', 'SOCCOM'])"
   ]
  },
  {
   "cell_type": "code",
   "execution_count": null,
   "id": "b00b59bb-6566-4b52-afdb-3bcd35a85818",
   "metadata": {},
   "outputs": [],
   "source": []
  }
 ],
 "metadata": {
  "kernelspec": {
   "display_name": "Python 3 (ipykernel)",
   "language": "python",
   "name": "python3"
  },
  "language_info": {
   "codemirror_mode": {
    "name": "ipython",
    "version": 3
   },
   "file_extension": ".py",
   "mimetype": "text/x-python",
   "name": "python",
   "nbconvert_exporter": "python",
   "pygments_lexer": "ipython3",
   "version": "3.11.5"
  }
 },
 "nbformat": 4,
 "nbformat_minor": 5
}
